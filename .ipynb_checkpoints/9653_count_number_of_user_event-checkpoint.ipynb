{
 "cells": [
  {
   "cell_type": "code",
   "execution_count": 1,
   "id": "1157d9b2-ea5c-4c9b-8267-28cbeba4302e",
   "metadata": {},
   "outputs": [],
   "source": [
    "import pandas as pd\n",
    "\n",
    "data = {\n",
    "    \"user_id\": [6991, 18851, 14998, 8186, 9626, 16460, 10101, 2670, 8708, 167, 12725, 14014, 13536, 2663, 8149, 3152, 11496, 2755, 3422, 2360],\n",
    "    \"occurred_at\": [\n",
    "        \"2014-06-09 18:26:54\", \"2014-08-29 13:18:38\", \"2014-07-01 12:47:56\", \"2014-05-23 10:44:16\",\n",
    "        \"2014-07-31 17:15:14\", \"2014-07-24 18:43:19\", \"2014-08-27 05:54:28\", \"2014-05-10 10:03:34\",\n",
    "        \"2014-05-26 10:42:12\", \"2014-07-30 19:39:13\", \"2014-06-17 08:03:49\", \"2014-07-06 16:24:43\",\n",
    "        \"2014-06-18 09:34:08\", \"2014-06-13 07:45:26\", \"2014-06-06 15:35:24\", \"2014-05-20 17:57:00\",\n",
    "        \"2014-08-28 07:45:32\", \"2014-05-05 14:14:56\", \"2014-07-03 14:09:37\", \"2014-06-02 19:53:13\"\n",
    "    ],\n",
    "    \"event_type\": [\n",
    "        \"engagement\", \"signup_flow\", \"engagement\", \"engagement\", \"engagement\", \"signup_flow\",\n",
    "        \"engagement\", \"engagement\", \"engagement\", \"engagement\", \"engagement\", \"engagement\",\n",
    "        \"engagement\", \"engagement\", \"engagement\", \"engagement\", \"engagement\", \"engagement\",\n",
    "        \"engagement\", \"engagement\"\n",
    "    ],\n",
    "    \"event_name\": [\n",
    "        \"home_page\", \"enter_info\", \"login\", \"home_page\", \"login\", \"create_user\", \"home_page\",\n",
    "        \"like_message\", \"send_message\", \"view_inbox\", \"home_page\", \"view_inbox\", \"send_message\",\n",
    "        \"home_page\", \"like_message\", \"home_page\", \"view_inbox\", \"view_inbox\", \"send_message\",\n",
    "        \"search_click_result_9\"\n",
    "    ],\n",
    "    \"location\": [\n",
    "        \"United States\", \"Russia\", \"France\", \"Italy\", \"Russia\", \"United States\", \"Singapore\",\n",
    "        \"United States\", \"Australia\", \"United Arab Emirates\", \"Brazil\", \"Japan\", \"United States\",\n",
    "        \"United States\", \"Australia\", \"Venezuela\", \"United States\", \"France\", \"United States\", \"United States\"\n",
    "    ],\n",
    "    \"device\": [\n",
    "        \"iphone 5\", \"asus chromebook\", \"hp pavilion desktop\", \"macbook pro\", \"nexus 7\", \"samsung galaxy note\",\n",
    "        \"dell inspiron notebook\", \"nexus 7\", \"macbook pro\", \"lenovo thinkpad\", \"macbook pro\", \"macbook pro\",\n",
    "        \"nexus 5\", \"nokia lumia 635\", \"samsung galaxy s4\", \"iphone 5\", \"lenovo thinkpad\", \"samsung galaxy s4\",\n",
    "        \"kindle fire\", \"iphone 4s\"\n",
    "    ]\n",
    "}\n",
    "\n",
    "playbook_events = pd.DataFrame(data)\n",
    "\n"
   ]
  },
  {
   "cell_type": "code",
   "execution_count": 2,
   "id": "c0bcc0c3-33dc-4f46-89d7-c62e29b9dea4",
   "metadata": {},
   "outputs": [
    {
     "data": {
      "text/html": [
       "<div>\n",
       "<style scoped>\n",
       "    .dataframe tbody tr th:only-of-type {\n",
       "        vertical-align: middle;\n",
       "    }\n",
       "\n",
       "    .dataframe tbody tr th {\n",
       "        vertical-align: top;\n",
       "    }\n",
       "\n",
       "    .dataframe thead th {\n",
       "        text-align: right;\n",
       "    }\n",
       "</style>\n",
       "<table border=\"1\" class=\"dataframe\">\n",
       "  <thead>\n",
       "    <tr style=\"text-align: right;\">\n",
       "      <th></th>\n",
       "      <th>user_id</th>\n",
       "      <th>occurred_at</th>\n",
       "      <th>event_type</th>\n",
       "      <th>event_name</th>\n",
       "      <th>location</th>\n",
       "      <th>device</th>\n",
       "    </tr>\n",
       "  </thead>\n",
       "  <tbody>\n",
       "    <tr>\n",
       "      <th>0</th>\n",
       "      <td>6991</td>\n",
       "      <td>2014-06-09 18:26:54</td>\n",
       "      <td>engagement</td>\n",
       "      <td>home_page</td>\n",
       "      <td>United States</td>\n",
       "      <td>iphone 5</td>\n",
       "    </tr>\n",
       "    <tr>\n",
       "      <th>1</th>\n",
       "      <td>18851</td>\n",
       "      <td>2014-08-29 13:18:38</td>\n",
       "      <td>signup_flow</td>\n",
       "      <td>enter_info</td>\n",
       "      <td>Russia</td>\n",
       "      <td>asus chromebook</td>\n",
       "    </tr>\n",
       "    <tr>\n",
       "      <th>2</th>\n",
       "      <td>14998</td>\n",
       "      <td>2014-07-01 12:47:56</td>\n",
       "      <td>engagement</td>\n",
       "      <td>login</td>\n",
       "      <td>France</td>\n",
       "      <td>hp pavilion desktop</td>\n",
       "    </tr>\n",
       "    <tr>\n",
       "      <th>3</th>\n",
       "      <td>8186</td>\n",
       "      <td>2014-05-23 10:44:16</td>\n",
       "      <td>engagement</td>\n",
       "      <td>home_page</td>\n",
       "      <td>Italy</td>\n",
       "      <td>macbook pro</td>\n",
       "    </tr>\n",
       "    <tr>\n",
       "      <th>4</th>\n",
       "      <td>9626</td>\n",
       "      <td>2014-07-31 17:15:14</td>\n",
       "      <td>engagement</td>\n",
       "      <td>login</td>\n",
       "      <td>Russia</td>\n",
       "      <td>nexus 7</td>\n",
       "    </tr>\n",
       "  </tbody>\n",
       "</table>\n",
       "</div>"
      ],
      "text/plain": [
       "   user_id          occurred_at   event_type  event_name       location  \\\n",
       "0     6991  2014-06-09 18:26:54   engagement   home_page  United States   \n",
       "1    18851  2014-08-29 13:18:38  signup_flow  enter_info         Russia   \n",
       "2    14998  2014-07-01 12:47:56   engagement       login         France   \n",
       "3     8186  2014-05-23 10:44:16   engagement   home_page          Italy   \n",
       "4     9626  2014-07-31 17:15:14   engagement       login         Russia   \n",
       "\n",
       "                device  \n",
       "0             iphone 5  \n",
       "1      asus chromebook  \n",
       "2  hp pavilion desktop  \n",
       "3          macbook pro  \n",
       "4              nexus 7  "
      ]
     },
     "execution_count": 2,
     "metadata": {},
     "output_type": "execute_result"
    }
   ],
   "source": [
    "playbook_events.head()"
   ]
  },
  {
   "cell_type": "markdown",
   "id": "a51ea66f-bee4-4389-b8b3-3d95d51114cd",
   "metadata": {},
   "source": [
    "Count the number of user events performed by MacBookPro users.\n",
    "Output the result along with the event name.\n",
    "Sort the result based on the event count in the descending order."
   ]
  },
  {
   "cell_type": "code",
   "execution_count": 16,
   "id": "accd0923-c735-4f72-9668-090a893494fb",
   "metadata": {},
   "outputs": [
    {
     "data": {
      "text/html": [
       "<div>\n",
       "<style scoped>\n",
       "    .dataframe tbody tr th:only-of-type {\n",
       "        vertical-align: middle;\n",
       "    }\n",
       "\n",
       "    .dataframe tbody tr th {\n",
       "        vertical-align: top;\n",
       "    }\n",
       "\n",
       "    .dataframe thead th {\n",
       "        text-align: right;\n",
       "    }\n",
       "</style>\n",
       "<table border=\"1\" class=\"dataframe\">\n",
       "  <thead>\n",
       "    <tr style=\"text-align: right;\">\n",
       "      <th></th>\n",
       "      <th>event_name</th>\n",
       "      <th>event_count</th>\n",
       "    </tr>\n",
       "  </thead>\n",
       "  <tbody>\n",
       "    <tr>\n",
       "      <th>0</th>\n",
       "      <td>home_page</td>\n",
       "      <td>2</td>\n",
       "    </tr>\n",
       "    <tr>\n",
       "      <th>1</th>\n",
       "      <td>send_message</td>\n",
       "      <td>1</td>\n",
       "    </tr>\n",
       "    <tr>\n",
       "      <th>2</th>\n",
       "      <td>view_inbox</td>\n",
       "      <td>1</td>\n",
       "    </tr>\n",
       "  </tbody>\n",
       "</table>\n",
       "</div>"
      ],
      "text/plain": [
       "     event_name  event_count\n",
       "0     home_page            2\n",
       "1  send_message            1\n",
       "2    view_inbox            1"
      ]
     },
     "execution_count": 16,
     "metadata": {},
     "output_type": "execute_result"
    }
   ],
   "source": [
    "playbook_events[playbook_events['device'] == 'macbook pro'].groupby('event_name', as_index = False)['user_id'].count().rename(columns={'user_id': 'event_count'}).sort_values(by = 'event_count', ascending = False)"
   ]
  },
  {
   "cell_type": "code",
   "execution_count": 9,
   "id": "0e20d773-99c1-4041-9e2e-4c257a8cea19",
   "metadata": {},
   "outputs": [
    {
     "data": {
      "text/plain": [
       "event_name\n",
       "create_user              1\n",
       "enter_info               1\n",
       "home_page                6\n",
       "like_message             2\n",
       "login                    2\n",
       "search_click_result_9    1\n",
       "send_message             3\n",
       "view_inbox               4\n",
       "Name: device, dtype: int64"
      ]
     },
     "execution_count": 9,
     "metadata": {},
     "output_type": "execute_result"
    }
   ],
   "source": [
    "#sql\n",
    "select event_name, count(user_id) as event_count \n",
    "from playbook_events\n",
    "where device = 'macbook pro'\n",
    "group by event_name\n",
    "order by event_count desc\n"
   ]
  },
  {
   "cell_type": "code",
   "execution_count": null,
   "id": "eba0a52d-23f8-400c-8e07-fbcb1f19b85f",
   "metadata": {},
   "outputs": [],
   "source": []
  }
 ],
 "metadata": {
  "kernelspec": {
   "display_name": "Python 3 (ipykernel)",
   "language": "python",
   "name": "python3"
  },
  "language_info": {
   "codemirror_mode": {
    "name": "ipython",
    "version": 3
   },
   "file_extension": ".py",
   "mimetype": "text/x-python",
   "name": "python",
   "nbconvert_exporter": "python",
   "pygments_lexer": "ipython3",
   "version": "3.12.6"
  }
 },
 "nbformat": 4,
 "nbformat_minor": 5
}
