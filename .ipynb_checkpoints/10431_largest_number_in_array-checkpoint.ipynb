{
 "cells": [
  {
   "cell_type": "code",
   "execution_count": 1,
   "id": "c746b00d-2933-4e52-a462-f51d465bec0b",
   "metadata": {},
   "outputs": [],
   "source": [
    "def find_largest_number(arr):\n",
    "    max = -99999\n",
    "    for i in arr:\n",
    "        if i > max:\n",
    "            max = i\n",
    "    return max"
   ]
  },
  {
   "cell_type": "code",
   "execution_count": 2,
   "id": "cced8dd5-c890-4427-aeb0-b247584ba5a4",
   "metadata": {},
   "outputs": [
    {
     "name": "stdout",
     "output_type": "stream",
     "text": [
      "12\n"
     ]
    }
   ],
   "source": [
    "arr = [3, -2, 7, 3, -9, 12]\n",
    "print(find_largest_number(arr))"
   ]
  },
  {
   "cell_type": "code",
   "execution_count": null,
   "id": "98599aad-cd6e-417f-b5aa-69f32af95420",
   "metadata": {},
   "outputs": [],
   "source": []
  }
 ],
 "metadata": {
  "kernelspec": {
   "display_name": "Python 3 (ipykernel)",
   "language": "python",
   "name": "python3"
  },
  "language_info": {
   "codemirror_mode": {
    "name": "ipython",
    "version": 3
   },
   "file_extension": ".py",
   "mimetype": "text/x-python",
   "name": "python",
   "nbconvert_exporter": "python",
   "pygments_lexer": "ipython3",
   "version": "3.12.6"
  }
 },
 "nbformat": 4,
 "nbformat_minor": 5
}
