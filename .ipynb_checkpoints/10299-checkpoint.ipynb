{
 "cells": [
  {
   "cell_type": "code",
   "execution_count": 3,
   "id": "09ba4490-8f82-46e5-ba8c-f8fed4cbcb6f",
   "metadata": {},
   "outputs": [],
   "source": [
    "import pandas as pd"
   ]
  },
  {
   "cell_type": "code",
   "execution_count": 8,
   "id": "8ba0bcb6-a76a-49e0-affe-120c7ea5c3c0",
   "metadata": {},
   "outputs": [],
   "source": [
    "# Create the DataFrame\n",
    "data = {\n",
    "    \"id\": [\n",
    "        1, 1, 2, 2, 3, 4, 4, 5, 6, 6, 7, 8, 9, 9, 9, 10, 10, 11, 12, 13, 13, 13, 14, 15, 16, 17, 18, 18, 19, 20,\n",
    "        21, 22, 23, 24, 25, 26, 27, 28, 29, 30, 31, 32, 33, 34, 35, 36, 37, 38, 39, 40, 41, 42, 42, 42, 42, 43,\n",
    "        44, 45, 46, 47, 48, 49, 50, 51, 52, 53, 54, 55, 56, 57, 58, 59, 60, 61, 61, 62, 63, 64, 64, 64, 65, 66,\n",
    "        67, 68, 69, 70, 71, 72, 73, 74, 75, 75, 75, 75, 75\n",
    "    ],\n",
    "    \"first_name\": [\n",
    "        \"Todd\", \"Todd\", \"Justin\", \"Justin\", \"Kelly\", \"Patricia\", \"Patricia\", \"Sherry\", \"Natasha\", \"Natasha\",\n",
    "        \"Diane\", \"Mercedes\", \"Christy\", \"Christy\", \"Christy\", \"Sean\", \"Sean\", \"Kevin\", \"Joshua\", \"Julie\", \"Julie\",\n",
    "        \"Julie\", \"John\", \"Anthony\", \"Briana\", \"Jason\", \"Jeffrey\", \"Jeffrey\", \"Michael\", \"Cody\", \"Stephen\",\n",
    "        \"Brittany\", \"Angela\", \"William\", \"Pamela\", \"Allison\", \"Anthony\", \"Alexis\", \"Jason\", \"Stephen\", \"Kimberly\",\n",
    "        \"Eric\", \"Peter\", \"Justin\", \"John\", \"Jesus\", \"Philip\", \"Nicole\", \"Linda\", \"Colleen\", \"John\", \"Traci\",\n",
    "        \"Traci\", \"Traci\", \"Traci\", \"Joseph\", \"Trevor\", \"Kevin\", \"Joshua\", \"Kimberly\", \"Robert\", \"Amber\", \"Victoria\",\n",
    "        \"Theresa\", \"Kara\", \"Teresa\", \"Wesley\", \"Michael\", \"Rachael\", \"Patricia\", \"Edward\", \"Kevin\", \"Charles\",\n",
    "        \"Ryan\", \"Ryan\", \"Dale\", \"Richard\", \"Danielle\", \"Danielle\", \"Danielle\", \"Deborah\", \"Dustin\", \"Tyler\",\n",
    "        \"Antonio\", \"Ernest\", \"Karen\", \"Kristine\", \"Christine\", \"William\", \"Richard\", \"Julia\", \"Julia\", \"Julia\",\n",
    "        \"Julia\", \"Julia\"\n",
    "    ],\n",
    "    \"last_name\": [\n",
    "        \"Wilson\", \"Wilson\", \"Simon\", \"Simon\", \"Rosario\", \"Powell\", \"Powell\", \"Golden\", \"Swanson\", \"Swanson\",\n",
    "        \"Gordon\", \"Rodriguez\", \"Mitchell\", \"Mitchell\", \"Mitchell\", \"Crawford\", \"Crawford\", \"Townsend\", \"Johnson\",\n",
    "        \"Sanchez\", \"Sanchez\", \"Sanchez\", \"Coleman\", \"Valdez\", \"Rivas\", \"Burnett\", \"Harris\", \"Harris\", \"Ramsey\",\n",
    "        \"Gonzalez\", \"Berry\", \"Scott\", \"Williams\", \"Flores\", \"Matthews\", \"Johnson\", \"Ball\", \"Beck\", \"Olsen\", \"Smith\",\n",
    "        \"Brooks\", \"Zimmerman\", \"Holt\", \"Dunn\", \"Ball\", \"Ward\", \"Gillespie\", \"Lewis\", \"Clark\", \"Carrillo\", \"George\",\n",
    "        \"Williams\", \"Williams\", \"Williams\", \"Williams\", \"Rogers\", \"Carter\", \"Duncan\", \"Ewing\", \"Dean\", \"Lynch\",\n",
    "        \"Harding\", \"Wilson\", \"Everett\", \"Smith\", \"Cohen\", \"Tucker\", \"Morris\", \"Williams\", \"Harmon\", \"Sharp\",\n",
    "        \"Robinson\", \"Pearson\", \"Brown\", \"Brown\", \"Hayes\", \"Sanford\", \"Williams\", \"Williams\", \"Williams\", \"Martin\",\n",
    "        \"Bush\", \"Green\", \"Carpenter\", \"Peterson\", \"Fernandez\", \"Casey\", \"Frye\", \"Preston\", \"Cole\", \"Ramos\", \"Ramos\",\n",
    "        \"Ramos\", \"Ramos\", \"Ramos\"\n",
    "    ],\n",
    "    \"salary\": [\n",
    "        110000, 106119, 128922, 130000, 42689, 162825, 170000, 44101, 79632, 90000, 74591, 61048, 137236, 140000,\n",
    "        150000, 182065, 190000, 166861, 123082, 185663, 200000, 210000, 152434, 96898, 151668, 42525, 14491, 20000,\n",
    "        63159, 112809, 123617, 162537, 100875, 142674, 57944, 128782, 34386, 12260, 51937, 194791, 95327, 83093,\n",
    "        69945, 67992, 47795, 36078, 36424, 114079, 186781, 147723, 21642, 138892, 150000, 160000, 180000, 22800,\n",
    "        38670, 45210, 73088, 71416, 117960, 77764, 176620, 31404, 192838, 98860, 90221, 106799, 103585, 147417,\n",
    "        41077, 100924, 173317, 110225, 120000, 97662, 136083, 98655, 110000, 120000, 67389, 47567, 111085, 83684,\n",
    "        115993, 101238, 67651, 137244, 155225, 180361, 61398, 70000, 83000, 90000, 105000\n",
    "    ],\n",
    "    \"department_id\": [\n",
    "        1006, 1006, 1005, 1005, 1002, 1004, 1004, 1002, 1005, 1005, 1002, 1005, 1001, 1001, 1001, 1006, 1006, 1002,\n",
    "        1004, 1001, 1001, 1001, 1001, 1001, 1005, 1006, 1002, 1002, 1003, 1004, 1002, 1002, 1004, 1003, 1005, 1001,\n",
    "        1003, 1005, 1006, 1001, 1003, 1006, 1002, 1003, 1004, 1005, 1006, 1001, 1002, 1004, 1001, 1003, 1003, 1003,\n",
    "        1003, 1005, 1001, 1003, 1003, 1003, 1004, 1002, 1002, 1002, 1004, 1001, 1005, 1002, 1005, 1005, 1004, 1004,\n",
    "        1003, 1005, 1005, 1005, 1002, 1001, 1002, 1003, 1001, 1005, 1005, 1006, 1006, 1006, 1006, 1006\n",
    "    ]\n",
    "}\n",
    "\n"
   ]
  },
  {
   "cell_type": "code",
   "execution_count": 9,
   "id": "0d5588b4-6605-4a4e-9a86-6b9355e30223",
   "metadata": {},
   "outputs": [
    {
     "ename": "ValueError",
     "evalue": "All arrays must be of the same length",
     "output_type": "error",
     "traceback": [
      "\u001b[1;31m---------------------------------------------------------------------------\u001b[0m",
      "\u001b[1;31mValueError\u001b[0m                                Traceback (most recent call last)",
      "Cell \u001b[1;32mIn[9], line 1\u001b[0m\n\u001b[1;32m----> 1\u001b[0m df \u001b[38;5;241m=\u001b[39m \u001b[43mpd\u001b[49m\u001b[38;5;241;43m.\u001b[39;49m\u001b[43mDataFrame\u001b[49m\u001b[43m(\u001b[49m\u001b[43mdata\u001b[49m\u001b[43m)\u001b[49m\n",
      "File \u001b[1;32m~\\OneDrive\\Documents\\HackerRank\\hackerRank\\Lib\\site-packages\\pandas\\core\\frame.py:778\u001b[0m, in \u001b[0;36mDataFrame.__init__\u001b[1;34m(self, data, index, columns, dtype, copy)\u001b[0m\n\u001b[0;32m    772\u001b[0m     mgr \u001b[38;5;241m=\u001b[39m \u001b[38;5;28mself\u001b[39m\u001b[38;5;241m.\u001b[39m_init_mgr(\n\u001b[0;32m    773\u001b[0m         data, axes\u001b[38;5;241m=\u001b[39m{\u001b[38;5;124m\"\u001b[39m\u001b[38;5;124mindex\u001b[39m\u001b[38;5;124m\"\u001b[39m: index, \u001b[38;5;124m\"\u001b[39m\u001b[38;5;124mcolumns\u001b[39m\u001b[38;5;124m\"\u001b[39m: columns}, dtype\u001b[38;5;241m=\u001b[39mdtype, copy\u001b[38;5;241m=\u001b[39mcopy\n\u001b[0;32m    774\u001b[0m     )\n\u001b[0;32m    776\u001b[0m \u001b[38;5;28;01melif\u001b[39;00m \u001b[38;5;28misinstance\u001b[39m(data, \u001b[38;5;28mdict\u001b[39m):\n\u001b[0;32m    777\u001b[0m     \u001b[38;5;66;03m# GH#38939 de facto copy defaults to False only in non-dict cases\u001b[39;00m\n\u001b[1;32m--> 778\u001b[0m     mgr \u001b[38;5;241m=\u001b[39m \u001b[43mdict_to_mgr\u001b[49m\u001b[43m(\u001b[49m\u001b[43mdata\u001b[49m\u001b[43m,\u001b[49m\u001b[43m \u001b[49m\u001b[43mindex\u001b[49m\u001b[43m,\u001b[49m\u001b[43m \u001b[49m\u001b[43mcolumns\u001b[49m\u001b[43m,\u001b[49m\u001b[43m \u001b[49m\u001b[43mdtype\u001b[49m\u001b[38;5;241;43m=\u001b[39;49m\u001b[43mdtype\u001b[49m\u001b[43m,\u001b[49m\u001b[43m \u001b[49m\u001b[43mcopy\u001b[49m\u001b[38;5;241;43m=\u001b[39;49m\u001b[43mcopy\u001b[49m\u001b[43m,\u001b[49m\u001b[43m \u001b[49m\u001b[43mtyp\u001b[49m\u001b[38;5;241;43m=\u001b[39;49m\u001b[43mmanager\u001b[49m\u001b[43m)\u001b[49m\n\u001b[0;32m    779\u001b[0m \u001b[38;5;28;01melif\u001b[39;00m \u001b[38;5;28misinstance\u001b[39m(data, ma\u001b[38;5;241m.\u001b[39mMaskedArray):\n\u001b[0;32m    780\u001b[0m     \u001b[38;5;28;01mfrom\u001b[39;00m \u001b[38;5;21;01mnumpy\u001b[39;00m\u001b[38;5;21;01m.\u001b[39;00m\u001b[38;5;21;01mma\u001b[39;00m \u001b[38;5;28;01mimport\u001b[39;00m mrecords\n",
      "File \u001b[1;32m~\\OneDrive\\Documents\\HackerRank\\hackerRank\\Lib\\site-packages\\pandas\\core\\internals\\construction.py:503\u001b[0m, in \u001b[0;36mdict_to_mgr\u001b[1;34m(data, index, columns, dtype, typ, copy)\u001b[0m\n\u001b[0;32m    499\u001b[0m     \u001b[38;5;28;01melse\u001b[39;00m:\n\u001b[0;32m    500\u001b[0m         \u001b[38;5;66;03m# dtype check to exclude e.g. range objects, scalars\u001b[39;00m\n\u001b[0;32m    501\u001b[0m         arrays \u001b[38;5;241m=\u001b[39m [x\u001b[38;5;241m.\u001b[39mcopy() \u001b[38;5;28;01mif\u001b[39;00m \u001b[38;5;28mhasattr\u001b[39m(x, \u001b[38;5;124m\"\u001b[39m\u001b[38;5;124mdtype\u001b[39m\u001b[38;5;124m\"\u001b[39m) \u001b[38;5;28;01melse\u001b[39;00m x \u001b[38;5;28;01mfor\u001b[39;00m x \u001b[38;5;129;01min\u001b[39;00m arrays]\n\u001b[1;32m--> 503\u001b[0m \u001b[38;5;28;01mreturn\u001b[39;00m \u001b[43marrays_to_mgr\u001b[49m\u001b[43m(\u001b[49m\u001b[43marrays\u001b[49m\u001b[43m,\u001b[49m\u001b[43m \u001b[49m\u001b[43mcolumns\u001b[49m\u001b[43m,\u001b[49m\u001b[43m \u001b[49m\u001b[43mindex\u001b[49m\u001b[43m,\u001b[49m\u001b[43m \u001b[49m\u001b[43mdtype\u001b[49m\u001b[38;5;241;43m=\u001b[39;49m\u001b[43mdtype\u001b[49m\u001b[43m,\u001b[49m\u001b[43m \u001b[49m\u001b[43mtyp\u001b[49m\u001b[38;5;241;43m=\u001b[39;49m\u001b[43mtyp\u001b[49m\u001b[43m,\u001b[49m\u001b[43m \u001b[49m\u001b[43mconsolidate\u001b[49m\u001b[38;5;241;43m=\u001b[39;49m\u001b[43mcopy\u001b[49m\u001b[43m)\u001b[49m\n",
      "File \u001b[1;32m~\\OneDrive\\Documents\\HackerRank\\hackerRank\\Lib\\site-packages\\pandas\\core\\internals\\construction.py:114\u001b[0m, in \u001b[0;36marrays_to_mgr\u001b[1;34m(arrays, columns, index, dtype, verify_integrity, typ, consolidate)\u001b[0m\n\u001b[0;32m    111\u001b[0m \u001b[38;5;28;01mif\u001b[39;00m verify_integrity:\n\u001b[0;32m    112\u001b[0m     \u001b[38;5;66;03m# figure out the index, if necessary\u001b[39;00m\n\u001b[0;32m    113\u001b[0m     \u001b[38;5;28;01mif\u001b[39;00m index \u001b[38;5;129;01mis\u001b[39;00m \u001b[38;5;28;01mNone\u001b[39;00m:\n\u001b[1;32m--> 114\u001b[0m         index \u001b[38;5;241m=\u001b[39m \u001b[43m_extract_index\u001b[49m\u001b[43m(\u001b[49m\u001b[43marrays\u001b[49m\u001b[43m)\u001b[49m\n\u001b[0;32m    115\u001b[0m     \u001b[38;5;28;01melse\u001b[39;00m:\n\u001b[0;32m    116\u001b[0m         index \u001b[38;5;241m=\u001b[39m ensure_index(index)\n",
      "File \u001b[1;32m~\\OneDrive\\Documents\\HackerRank\\hackerRank\\Lib\\site-packages\\pandas\\core\\internals\\construction.py:677\u001b[0m, in \u001b[0;36m_extract_index\u001b[1;34m(data)\u001b[0m\n\u001b[0;32m    675\u001b[0m lengths \u001b[38;5;241m=\u001b[39m \u001b[38;5;28mlist\u001b[39m(\u001b[38;5;28mset\u001b[39m(raw_lengths))\n\u001b[0;32m    676\u001b[0m \u001b[38;5;28;01mif\u001b[39;00m \u001b[38;5;28mlen\u001b[39m(lengths) \u001b[38;5;241m>\u001b[39m \u001b[38;5;241m1\u001b[39m:\n\u001b[1;32m--> 677\u001b[0m     \u001b[38;5;28;01mraise\u001b[39;00m \u001b[38;5;167;01mValueError\u001b[39;00m(\u001b[38;5;124m\"\u001b[39m\u001b[38;5;124mAll arrays must be of the same length\u001b[39m\u001b[38;5;124m\"\u001b[39m)\n\u001b[0;32m    679\u001b[0m \u001b[38;5;28;01mif\u001b[39;00m have_dicts:\n\u001b[0;32m    680\u001b[0m     \u001b[38;5;28;01mraise\u001b[39;00m \u001b[38;5;167;01mValueError\u001b[39;00m(\n\u001b[0;32m    681\u001b[0m         \u001b[38;5;124m\"\u001b[39m\u001b[38;5;124mMixing dicts with non-Series may lead to ambiguous ordering.\u001b[39m\u001b[38;5;124m\"\u001b[39m\n\u001b[0;32m    682\u001b[0m     )\n",
      "\u001b[1;31mValueError\u001b[0m: All arrays must be of the same length"
     ]
    }
   ],
   "source": [
    "df = pd.DataFrame(data)"
   ]
  },
  {
   "cell_type": "code",
   "execution_count": null,
   "id": "f95aacbe-8b35-446f-80d0-8136f6ef8c40",
   "metadata": {},
   "outputs": [],
   "source": [
    "ms_employee_salary.head()\n",
    "\n",
    "sort_df = ms_employee_salary.sort_values(['salary'], ascending = False)\n",
    "updated_records = sort_df.drop_duplicates(['id'])\n",
    "updated_records = updated_records.sort_values(['id'])\n",
    "updated_records"
   ]
  },
  {
   "cell_type": "code",
   "execution_count": null,
   "id": "733a4333-9ac5-412f-b5ec-714e2c89a742",
   "metadata": {},
   "outputs": [],
   "source": [
    "# sql\n",
    "WITH cte AS\n",
    "(select * , ROW_NUMBER() OVER(PARTITION BY id ORDER BY salary DESC) AS rnks\n",
    "from ms_employee_salary)\n",
    "\n",
    "SELECT id, first_name, last_name, department_id, salary AS max\n",
    "FROM cte\n",
    "WHERE rnks = 1"
   ]
  }
 ],
 "metadata": {
  "kernelspec": {
   "display_name": "Python 3 (ipykernel)",
   "language": "python",
   "name": "python3"
  },
  "language_info": {
   "codemirror_mode": {
    "name": "ipython",
    "version": 3
   },
   "file_extension": ".py",
   "mimetype": "text/x-python",
   "name": "python",
   "nbconvert_exporter": "python",
   "pygments_lexer": "ipython3",
   "version": "3.12.6"
  }
 },
 "nbformat": 4,
 "nbformat_minor": 5
}
