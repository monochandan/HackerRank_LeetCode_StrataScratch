{
 "cells": [
  {
   "cell_type": "code",
   "execution_count": 1,
   "id": "24738996-aa24-4c54-aab3-5dc70f155782",
   "metadata": {},
   "outputs": [],
   "source": [
    "# Find the average number of bathrooms and bedrooms for each city’s property types. Output the result along with the city name and the property type."
   ]
  },
  {
   "cell_type": "code",
   "execution_count": 2,
   "id": "d0936ed1-5f33-45b7-8d55-8da983ae9353",
   "metadata": {},
   "outputs": [],
   "source": [
    "import pandas as pd"
   ]
  },
  {
   "cell_type": "code",
   "execution_count": null,
   "id": "46545a8d-c671-49f4-af27-87b59e9382b4",
   "metadata": {},
   "outputs": [],
   "source": [
    "# Start writing code\n",
    "airbnb_search_details.head()\n",
    "\n",
    "my_df = airbnb_search_details[['property_type', 'city', 'bedrooms', 'bathrooms']]\n",
    "\n",
    "final_result = my_df.groupby(['city', 'property_type']).mean().reset_index()\n",
    "\n",
    "final_result"
   ]
  },
  {
   "cell_type": "code",
   "execution_count": null,
   "id": "7d7a0de1-85d5-406c-944f-24fc829f88c3",
   "metadata": {},
   "outputs": [],
   "source": [
    "airbnb_search_details.groupby(['city', 'property_type'])[['bedrooms', 'bathrooms']].mean().reset_index().rename\n",
    "(columns={'bedrooms': 'n_bedrooms_avg', 'bathrooms':'n_bathrooms_avg'})\n"
   ]
  },
  {
   "cell_type": "code",
   "execution_count": null,
   "id": "4941c4ff-575d-4189-8237-63096dd06322",
   "metadata": {},
   "outputs": [],
   "source": [
    "# sql\n",
    "select city, property_type, avg(bathrooms) as n_bathrooms_avg, avg(bedrooms) as n_bedrooms_avg\n",
    "from airbnb_search_details\n",
    "group by city, property_type"
   ]
  }
 ],
 "metadata": {
  "kernelspec": {
   "display_name": "Python 3 (ipykernel)",
   "language": "python",
   "name": "python3"
  },
  "language_info": {
   "codemirror_mode": {
    "name": "ipython",
    "version": 3
   },
   "file_extension": ".py",
   "mimetype": "text/x-python",
   "name": "python",
   "nbconvert_exporter": "python",
   "pygments_lexer": "ipython3",
   "version": "3.12.6"
  }
 },
 "nbformat": 4,
 "nbformat_minor": 5
}
