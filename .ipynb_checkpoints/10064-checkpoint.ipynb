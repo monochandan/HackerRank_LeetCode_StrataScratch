{
 "cells": [
  {
   "cell_type": "code",
   "execution_count": 1,
   "id": "86e11a5e-a927-4f81-9c20-a3b2e4eccec2",
   "metadata": {},
   "outputs": [],
   "source": [
    "import pandas as pd"
   ]
  },
  {
   "cell_type": "code",
   "execution_count": 10,
   "id": "f8c6c176-35c9-4f0b-bcc9-9ab494088584",
   "metadata": {},
   "outputs": [],
   "source": [
    "data = {\n",
    "    \"date\": [\"2020-01-01\", \"2020-01-02\", \"2020-01-03\", \"2020-01-04\", \"2020-01-07\"],\n",
    "    \"consumption\": [400, 350, 500, 500, 600]\n",
    "}\n",
    "\n",
    "eu_energy = pd.DataFrame(data)"
   ]
  },
  {
   "cell_type": "code",
   "execution_count": 11,
   "id": "07cf06dc-4b16-475d-89a7-3e63baf39fdc",
   "metadata": {},
   "outputs": [],
   "source": [
    "data = {\n",
    "    \"date\": [\"2020-01-01\", \"2020-01-02\", \"2020-01-04\", \"2020-01-05\", \"2020-01-06\", \"2020-01-07\"],\n",
    "    \"consumption\": [400, 400, 675, 1200, 750, 400]\n",
    "}\n",
    "\n",
    "asia_energy = pd.DataFrame(data)\n"
   ]
  },
  {
   "cell_type": "code",
   "execution_count": 12,
   "id": "a52d2021-845f-418e-bd0f-7e8082634ca3",
   "metadata": {},
   "outputs": [],
   "source": [
    "# Create the DataFrame\n",
    "data = {\n",
    "    \"date\": [\"2020-01-01\", \"2020-01-02\", \"2020-01-03\", \"2020-01-06\", \"2020-01-07\"],\n",
    "    \"consumption\": [250, 375, 600, 500, 250]\n",
    "}\n",
    "\n",
    "na_energy = pd.DataFrame(data)"
   ]
  },
  {
   "cell_type": "markdown",
   "id": "2dac27e4-9149-4420-b238-328de765f3c8",
   "metadata": {},
   "source": [
    "question: Find the date with the highest total energy consumption from the Meta/Facebook data centers. Output the date along with the total energy consumption across all data centers."
   ]
  },
  {
   "cell_type": "code",
   "execution_count": 13,
   "id": "c3868577-06d6-4d70-a50c-9f2fd254fa2e",
   "metadata": {},
   "outputs": [
    {
     "data": {
      "text/html": [
       "<div>\n",
       "<style scoped>\n",
       "    .dataframe tbody tr th:only-of-type {\n",
       "        vertical-align: middle;\n",
       "    }\n",
       "\n",
       "    .dataframe tbody tr th {\n",
       "        vertical-align: top;\n",
       "    }\n",
       "\n",
       "    .dataframe thead th {\n",
       "        text-align: right;\n",
       "    }\n",
       "</style>\n",
       "<table border=\"1\" class=\"dataframe\">\n",
       "  <thead>\n",
       "    <tr style=\"text-align: right;\">\n",
       "      <th></th>\n",
       "      <th>date</th>\n",
       "      <th>consumption</th>\n",
       "    </tr>\n",
       "  </thead>\n",
       "  <tbody>\n",
       "    <tr>\n",
       "      <th>0</th>\n",
       "      <td>2020-01-01</td>\n",
       "      <td>400</td>\n",
       "    </tr>\n",
       "    <tr>\n",
       "      <th>1</th>\n",
       "      <td>2020-01-02</td>\n",
       "      <td>350</td>\n",
       "    </tr>\n",
       "    <tr>\n",
       "      <th>2</th>\n",
       "      <td>2020-01-03</td>\n",
       "      <td>500</td>\n",
       "    </tr>\n",
       "    <tr>\n",
       "      <th>3</th>\n",
       "      <td>2020-01-04</td>\n",
       "      <td>500</td>\n",
       "    </tr>\n",
       "    <tr>\n",
       "      <th>4</th>\n",
       "      <td>2020-01-07</td>\n",
       "      <td>600</td>\n",
       "    </tr>\n",
       "  </tbody>\n",
       "</table>\n",
       "</div>"
      ],
      "text/plain": [
       "         date  consumption\n",
       "0  2020-01-01          400\n",
       "1  2020-01-02          350\n",
       "2  2020-01-03          500\n",
       "3  2020-01-04          500\n",
       "4  2020-01-07          600"
      ]
     },
     "execution_count": 13,
     "metadata": {},
     "output_type": "execute_result"
    }
   ],
   "source": [
    "eu_energy.head()"
   ]
  },
  {
   "cell_type": "code",
   "execution_count": 19,
   "id": "f5edc83d-cf4d-4d53-814e-4353a2ad612f",
   "metadata": {},
   "outputs": [
    {
     "data": {
      "text/html": [
       "<div>\n",
       "<style scoped>\n",
       "    .dataframe tbody tr th:only-of-type {\n",
       "        vertical-align: middle;\n",
       "    }\n",
       "\n",
       "    .dataframe tbody tr th {\n",
       "        vertical-align: top;\n",
       "    }\n",
       "\n",
       "    .dataframe thead th {\n",
       "        text-align: right;\n",
       "    }\n",
       "</style>\n",
       "<table border=\"1\" class=\"dataframe\">\n",
       "  <thead>\n",
       "    <tr style=\"text-align: right;\">\n",
       "      <th></th>\n",
       "      <th>date</th>\n",
       "      <th>consumption</th>\n",
       "    </tr>\n",
       "  </thead>\n",
       "  <tbody>\n",
       "    <tr>\n",
       "      <th>6</th>\n",
       "      <td>2020-01-07</td>\n",
       "      <td>1250</td>\n",
       "    </tr>\n",
       "    <tr>\n",
       "      <th>5</th>\n",
       "      <td>2020-01-06</td>\n",
       "      <td>1250</td>\n",
       "    </tr>\n",
       "  </tbody>\n",
       "</table>\n",
       "</div>"
      ],
      "text/plain": [
       "         date  consumption\n",
       "6  2020-01-07         1250\n",
       "5  2020-01-06         1250"
      ]
     },
     "execution_count": 19,
     "metadata": {},
     "output_type": "execute_result"
    }
   ],
   "source": [
    "df_concat = pd.concat([eu_energy, asia_energy, na_energy]).groupby('date')['consumption'].sum().reset_index().sort_values(by = 'consumption', ascending = False)\n",
    "df_concat[df_concat['consumption'] == df_concat['consumption'].max()]"
   ]
  },
  {
   "cell_type": "code",
   "execution_count": null,
   "id": "32c0c8f3-5b7a-4378-b914-42621db4e2ac",
   "metadata": {},
   "outputs": [],
   "source": [
    "# sql\n",
    "with cte as (\n",
    "select tab.date, sum(tab.consumption) as total_energy_consump\n",
    "from \n",
    "(select *\n",
    "from eu_energy\n",
    "UNION\n",
    "select *\n",
    "from asia_energy\n",
    "UNION\n",
    "select *\n",
    "from na_energy) as tab\n",
    "\n",
    "group by date\n",
    "order by total_energy_consump desc\n",
    ")\n",
    "\n",
    "select *\n",
    "from cte\n",
    "where total_energy = (select max(total_energy) from cte)"
   ]
  },
  {
   "cell_type": "code",
   "execution_count": null,
   "id": "90adce9d-9598-477f-b37c-98f8470634a3",
   "metadata": {},
   "outputs": [],
   "source": []
  }
 ],
 "metadata": {
  "kernelspec": {
   "display_name": "Python 3 (ipykernel)",
   "language": "python",
   "name": "python3"
  },
  "language_info": {
   "codemirror_mode": {
    "name": "ipython",
    "version": 3
   },
   "file_extension": ".py",
   "mimetype": "text/x-python",
   "name": "python",
   "nbconvert_exporter": "python",
   "pygments_lexer": "ipython3",
   "version": "3.12.6"
  }
 },
 "nbformat": 4,
 "nbformat_minor": 5
}
