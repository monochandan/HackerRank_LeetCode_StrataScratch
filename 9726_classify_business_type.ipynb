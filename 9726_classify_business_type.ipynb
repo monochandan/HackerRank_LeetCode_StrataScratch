{
 "cells": [
  {
   "cell_type": "markdown",
   "id": "01c824e8-96d2-4098-9dde-a070691ca9c3",
   "metadata": {},
   "source": [
    "## polar date time conversion:\n",
    "https://www.confessionsofadataguy.com/date-and-datetime-manipulation-in-polar/"
   ]
  },
  {
   "cell_type": "code",
   "execution_count": 1,
   "id": "c55dcd85-66cc-43a1-9975-7d0db4aed17a",
   "metadata": {},
   "outputs": [],
   "source": [
    "import numpy as np\n",
    "import polars as pl"
   ]
  },
  {
   "cell_type": "code",
   "execution_count": 7,
   "id": "7c51f78d-b3c0-47ba-bae5-2c00f1bf40f5",
   "metadata": {},
   "outputs": [],
   "source": [
    "import pandas as pd\n",
    "\n",
    "data = {\n",
    "    'business_id': [5800, 64236, 1991, 3816, 39119, 34126],\n",
    "    'business_name': [\n",
    "        'John Chin Elementary School',\n",
    "        'Sutter Pub and Restaurant',\n",
    "        'SRI THAI CUISINE',\n",
    "        'Washington Bakery & Restaurant',\n",
    "        'Brothers Restaurant',\n",
    "        'Brothers Restaurant'\n",
    "    ],\n",
    "    'business_address': [\n",
    "        '350 Broadway St',\n",
    "        '700 Sutter St',\n",
    "        '4621 LINCOLN Way',\n",
    "        '733 Washington St',\n",
    "        '4128 GEARY Blvd',\n",
    "        '4129 GEARY Blvd'\n",
    "    ],\n",
    "    'business_city': ['San Francisco'] * 6,\n",
    "    'business_state': ['CA'] * 6,\n",
    "    'business_postal_code': [94133, 94102, 94122, 94108, 94118, 34566],\n",
    "    'business_latitude': [37.8, 37.79, 37.76, 37.8, 37.78, 30.98],\n",
    "    'business_longitude': [-122.4, -122.41, -122.51, -122.41, -122.46, -122.99],\n",
    "    'business_location': [\n",
    "        {'longitude': '-122.403154', 'needs_recoding': False, 'latitude': '37.798358', 'human_address': '{\"address\":\"\",\"city\":\"\",\"state\":\"\",\"zip\":\"\"}'},\n",
    "        {'longitude': '-122.41188', 'needs_recoding': False, 'latitude': '37.78881', 'human_address': '{\"address\":\"\",\"city\":\"\",\"state\":\"\",\"zip\":\"\"}'},\n",
    "        {'longitude': '-122.507779', 'needs_recoding': False, 'latitude': '37.764073', 'human_address': '{\"address\":\"\",\"city\":\"\",\"state\":\"\",\"zip\":\"\"}'},\n",
    "        {'longitude': '-122.405845', 'needs_recoding': False, 'latitude': '37.795174', 'human_address': '{\"address\":\"\",\"city\":\"\",\"state\":\"\",\"zip\":\"\"}'},\n",
    "        {'longitude': '-122.463762', 'needs_recoding': False, 'latitude': '37.781148', 'human_address': '{\"address\":\"\",\"city\":\"\",\"state\":\"\",\"zip\":\"\"}'},\n",
    "        {'longitude': '-122.463862', 'needs_recoding': False, 'latitude': '37.791148', 'human_address': '{\"address\":\"\",\"city\":\"\",\"state\":\"\",\"zip\":\"\"}'}\n",
    "    ],\n",
    "    'business_phone_number': [None] * 6,\n",
    "    'inspection_id': [\n",
    "        '5800_20171017', '64236_20170725', '1991_20171129', '3816_20160728', '39119_20160718', '39119_20060718'\n",
    "    ],\n",
    "    'inspection_date': [\n",
    "        '2017-10-17 00:00:00', '2017-07-25 00:00:00', '2017-11-29 00:00:00', '2016-07-28 00:00:00', '2016-07-18 00:00:00', '2016-07-19 00:00:00'\n",
    "    ],\n",
    "    'inspection_score': [98, 88, 86, 67, 79, 80],\n",
    "    'inspection_type': ['Routine - Unscheduled'] * 6,\n",
    "    'violation_id': [\n",
    "        '5800_20171017_103149', '64236_20170725_103133', '1991_20171129_103139', '3816_20160728_103108', '39119_20160718_103133', '39119_20160718_113133'\n",
    "    ],\n",
    "    'violation_description': [\n",
    "        'Wiping cloths not clean or properly stored or inadequate sanitizer',\n",
    "        'Foods not protected from contamination',\n",
    "        'Improper food storage',\n",
    "        'Contaminated or adulterated food',\n",
    "        'Foods not protected from contamination', \n",
    "        'Foods not protected from contamination out of line'\n",
    "    ],\n",
    "    'risk_category': ['Low Risk', 'Moderate Risk', 'Low Risk', 'High Risk', 'Moderate Risk', 'sexy risk']\n",
    "}\n",
    "\n",
    "df = pd.DataFrame(data)\n",
    "df_polar = pl.DataFrame(data)\n",
    "#print(df)\n"
   ]
  },
  {
   "cell_type": "code",
   "execution_count": 8,
   "id": "6f51bcb6-075a-4cab-a6df-7e563cc4d2ac",
   "metadata": {},
   "outputs": [
    {
     "data": {
      "text/html": [
       "<div>\n",
       "<style scoped>\n",
       "    .dataframe tbody tr th:only-of-type {\n",
       "        vertical-align: middle;\n",
       "    }\n",
       "\n",
       "    .dataframe tbody tr th {\n",
       "        vertical-align: top;\n",
       "    }\n",
       "\n",
       "    .dataframe thead th {\n",
       "        text-align: right;\n",
       "    }\n",
       "</style>\n",
       "<table border=\"1\" class=\"dataframe\">\n",
       "  <thead>\n",
       "    <tr style=\"text-align: right;\">\n",
       "      <th></th>\n",
       "      <th>business_id</th>\n",
       "      <th>business_name</th>\n",
       "      <th>business_address</th>\n",
       "      <th>business_city</th>\n",
       "      <th>business_state</th>\n",
       "      <th>business_postal_code</th>\n",
       "      <th>business_latitude</th>\n",
       "      <th>business_longitude</th>\n",
       "      <th>business_location</th>\n",
       "      <th>business_phone_number</th>\n",
       "      <th>inspection_id</th>\n",
       "      <th>inspection_date</th>\n",
       "      <th>inspection_score</th>\n",
       "      <th>inspection_type</th>\n",
       "      <th>violation_id</th>\n",
       "      <th>violation_description</th>\n",
       "      <th>risk_category</th>\n",
       "    </tr>\n",
       "  </thead>\n",
       "  <tbody>\n",
       "    <tr>\n",
       "      <th>0</th>\n",
       "      <td>5800</td>\n",
       "      <td>John Chin Elementary School</td>\n",
       "      <td>350 Broadway St</td>\n",
       "      <td>San Francisco</td>\n",
       "      <td>CA</td>\n",
       "      <td>94133</td>\n",
       "      <td>37.80</td>\n",
       "      <td>-122.40</td>\n",
       "      <td>{'longitude': '-122.403154', 'needs_recoding':...</td>\n",
       "      <td>None</td>\n",
       "      <td>5800_20171017</td>\n",
       "      <td>2017-10-17 00:00:00</td>\n",
       "      <td>98</td>\n",
       "      <td>Routine - Unscheduled</td>\n",
       "      <td>5800_20171017_103149</td>\n",
       "      <td>Wiping cloths not clean or properly stored or ...</td>\n",
       "      <td>Low Risk</td>\n",
       "    </tr>\n",
       "    <tr>\n",
       "      <th>1</th>\n",
       "      <td>64236</td>\n",
       "      <td>Sutter Pub and Restaurant</td>\n",
       "      <td>700 Sutter St</td>\n",
       "      <td>San Francisco</td>\n",
       "      <td>CA</td>\n",
       "      <td>94102</td>\n",
       "      <td>37.79</td>\n",
       "      <td>-122.41</td>\n",
       "      <td>{'longitude': '-122.41188', 'needs_recoding': ...</td>\n",
       "      <td>None</td>\n",
       "      <td>64236_20170725</td>\n",
       "      <td>2017-07-25 00:00:00</td>\n",
       "      <td>88</td>\n",
       "      <td>Routine - Unscheduled</td>\n",
       "      <td>64236_20170725_103133</td>\n",
       "      <td>Foods not protected from contamination</td>\n",
       "      <td>Moderate Risk</td>\n",
       "    </tr>\n",
       "    <tr>\n",
       "      <th>2</th>\n",
       "      <td>1991</td>\n",
       "      <td>SRI THAI CUISINE</td>\n",
       "      <td>4621 LINCOLN Way</td>\n",
       "      <td>San Francisco</td>\n",
       "      <td>CA</td>\n",
       "      <td>94122</td>\n",
       "      <td>37.76</td>\n",
       "      <td>-122.51</td>\n",
       "      <td>{'longitude': '-122.507779', 'needs_recoding':...</td>\n",
       "      <td>None</td>\n",
       "      <td>1991_20171129</td>\n",
       "      <td>2017-11-29 00:00:00</td>\n",
       "      <td>86</td>\n",
       "      <td>Routine - Unscheduled</td>\n",
       "      <td>1991_20171129_103139</td>\n",
       "      <td>Improper food storage</td>\n",
       "      <td>Low Risk</td>\n",
       "    </tr>\n",
       "    <tr>\n",
       "      <th>3</th>\n",
       "      <td>3816</td>\n",
       "      <td>Washington Bakery &amp; Restaurant</td>\n",
       "      <td>733 Washington St</td>\n",
       "      <td>San Francisco</td>\n",
       "      <td>CA</td>\n",
       "      <td>94108</td>\n",
       "      <td>37.80</td>\n",
       "      <td>-122.41</td>\n",
       "      <td>{'longitude': '-122.405845', 'needs_recoding':...</td>\n",
       "      <td>None</td>\n",
       "      <td>3816_20160728</td>\n",
       "      <td>2016-07-28 00:00:00</td>\n",
       "      <td>67</td>\n",
       "      <td>Routine - Unscheduled</td>\n",
       "      <td>3816_20160728_103108</td>\n",
       "      <td>Contaminated or adulterated food</td>\n",
       "      <td>High Risk</td>\n",
       "    </tr>\n",
       "    <tr>\n",
       "      <th>4</th>\n",
       "      <td>39119</td>\n",
       "      <td>Brothers Restaurant</td>\n",
       "      <td>4128 GEARY Blvd</td>\n",
       "      <td>San Francisco</td>\n",
       "      <td>CA</td>\n",
       "      <td>94118</td>\n",
       "      <td>37.78</td>\n",
       "      <td>-122.46</td>\n",
       "      <td>{'longitude': '-122.463762', 'needs_recoding':...</td>\n",
       "      <td>None</td>\n",
       "      <td>39119_20160718</td>\n",
       "      <td>2016-07-18 00:00:00</td>\n",
       "      <td>79</td>\n",
       "      <td>Routine - Unscheduled</td>\n",
       "      <td>39119_20160718_103133</td>\n",
       "      <td>Foods not protected from contamination</td>\n",
       "      <td>Moderate Risk</td>\n",
       "    </tr>\n",
       "  </tbody>\n",
       "</table>\n",
       "</div>"
      ],
      "text/plain": [
       "   business_id                   business_name   business_address  \\\n",
       "0         5800     John Chin Elementary School    350 Broadway St   \n",
       "1        64236       Sutter Pub and Restaurant      700 Sutter St   \n",
       "2         1991                SRI THAI CUISINE   4621 LINCOLN Way   \n",
       "3         3816  Washington Bakery & Restaurant  733 Washington St   \n",
       "4        39119             Brothers Restaurant    4128 GEARY Blvd   \n",
       "\n",
       "   business_city business_state  business_postal_code  business_latitude  \\\n",
       "0  San Francisco             CA                 94133              37.80   \n",
       "1  San Francisco             CA                 94102              37.79   \n",
       "2  San Francisco             CA                 94122              37.76   \n",
       "3  San Francisco             CA                 94108              37.80   \n",
       "4  San Francisco             CA                 94118              37.78   \n",
       "\n",
       "   business_longitude                                  business_location  \\\n",
       "0             -122.40  {'longitude': '-122.403154', 'needs_recoding':...   \n",
       "1             -122.41  {'longitude': '-122.41188', 'needs_recoding': ...   \n",
       "2             -122.51  {'longitude': '-122.507779', 'needs_recoding':...   \n",
       "3             -122.41  {'longitude': '-122.405845', 'needs_recoding':...   \n",
       "4             -122.46  {'longitude': '-122.463762', 'needs_recoding':...   \n",
       "\n",
       "  business_phone_number   inspection_id      inspection_date  \\\n",
       "0                  None   5800_20171017  2017-10-17 00:00:00   \n",
       "1                  None  64236_20170725  2017-07-25 00:00:00   \n",
       "2                  None   1991_20171129  2017-11-29 00:00:00   \n",
       "3                  None   3816_20160728  2016-07-28 00:00:00   \n",
       "4                  None  39119_20160718  2016-07-18 00:00:00   \n",
       "\n",
       "   inspection_score        inspection_type           violation_id  \\\n",
       "0                98  Routine - Unscheduled   5800_20171017_103149   \n",
       "1                88  Routine - Unscheduled  64236_20170725_103133   \n",
       "2                86  Routine - Unscheduled   1991_20171129_103139   \n",
       "3                67  Routine - Unscheduled   3816_20160728_103108   \n",
       "4                79  Routine - Unscheduled  39119_20160718_103133   \n",
       "\n",
       "                               violation_description  risk_category  \n",
       "0  Wiping cloths not clean or properly stored or ...       Low Risk  \n",
       "1             Foods not protected from contamination  Moderate Risk  \n",
       "2                              Improper food storage       Low Risk  \n",
       "3                   Contaminated or adulterated food      High Risk  \n",
       "4             Foods not protected from contamination  Moderate Risk  "
      ]
     },
     "execution_count": 8,
     "metadata": {},
     "output_type": "execute_result"
    }
   ],
   "source": [
    "df.head()"
   ]
  },
  {
   "cell_type": "code",
   "execution_count": null,
   "id": "72943887-1662-41e2-adbf-9470ac0cfaab",
   "metadata": {},
   "outputs": [],
   "source": []
  },
  {
   "cell_type": "markdown",
   "id": "e92563f7-9e64-4131-9361-df4df3265d9e",
   "metadata": {},
   "source": [
    "Classify each business as either a restaurant, cafe, school, or other.\n",
    "\n",
    "\n",
    "•\tA restaurant should have the substring 'restaurant' in the business name.\n",
    "•\tA cafe should have either 'cafe', 'café', or 'coffee' in the business name.\n",
    "•\tA school should have the substring 'school' in the business name.\n",
    "•\tAll other businesses should be classified as 'other'.\n",
    "\n",
    "\n",
    "Output the business name and their classification."
   ]
  },
  {
   "cell_type": "code",
   "execution_count": 4,
   "id": "f3610ab6-92ef-4848-9126-dfeb3760536a",
   "metadata": {},
   "outputs": [],
   "source": [
    "# df['business_name'].value_counts() ## all unique value with there number of occures"
   ]
  },
  {
   "cell_type": "code",
   "execution_count": 5,
   "id": "23f9a021-91e0-465e-b577-865e71484cb9",
   "metadata": {},
   "outputs": [],
   "source": [
    "# drop duplicates\n",
    "df_new = df[['business_name']].drop_duplicates()"
   ]
  },
  {
   "cell_type": "code",
   "execution_count": 6,
   "id": "494f7321-0841-4244-8cab-e3d5e21b58a6",
   "metadata": {},
   "outputs": [],
   "source": [
    "lower = df_new['business_name'].str.lower() # df_new['business_name'].str.lower() to lowerin np.where\n"
   ]
  },
  {
   "cell_type": "code",
   "execution_count": 8,
   "id": "540402e7-5dd4-4943-b1a3-119a35641e19",
   "metadata": {},
   "outputs": [],
   "source": [
    "## if resturant than restaurant or check again if school than school or check again if cafe than cafe or other\n",
    "df_new['business_type'] = np.where(lower.str.contains('restaurant'), 'resturant', \n",
    "                                   np.where(lower.str.contains('school'),'school', np.where(lower.str.contains(r'cafe|café|coffee'), 'cafe', 'other')))"
   ]
  },
  {
   "cell_type": "code",
   "execution_count": 9,
   "id": "4e6683d9-d4a0-4125-a4f0-69891c613dad",
   "metadata": {},
   "outputs": [
    {
     "data": {
      "text/html": [
       "<div>\n",
       "<style scoped>\n",
       "    .dataframe tbody tr th:only-of-type {\n",
       "        vertical-align: middle;\n",
       "    }\n",
       "\n",
       "    .dataframe tbody tr th {\n",
       "        vertical-align: top;\n",
       "    }\n",
       "\n",
       "    .dataframe thead th {\n",
       "        text-align: right;\n",
       "    }\n",
       "</style>\n",
       "<table border=\"1\" class=\"dataframe\">\n",
       "  <thead>\n",
       "    <tr style=\"text-align: right;\">\n",
       "      <th></th>\n",
       "      <th>business_name</th>\n",
       "      <th>business_type</th>\n",
       "    </tr>\n",
       "  </thead>\n",
       "  <tbody>\n",
       "    <tr>\n",
       "      <th>0</th>\n",
       "      <td>John Chin Elementary School</td>\n",
       "      <td>school</td>\n",
       "    </tr>\n",
       "    <tr>\n",
       "      <th>1</th>\n",
       "      <td>Sutter Pub and Restaurant</td>\n",
       "      <td>resturant</td>\n",
       "    </tr>\n",
       "    <tr>\n",
       "      <th>2</th>\n",
       "      <td>SRI THAI CUISINE</td>\n",
       "      <td>other</td>\n",
       "    </tr>\n",
       "    <tr>\n",
       "      <th>3</th>\n",
       "      <td>Washington Bakery &amp; Restaurant</td>\n",
       "      <td>resturant</td>\n",
       "    </tr>\n",
       "    <tr>\n",
       "      <th>4</th>\n",
       "      <td>Brothers Restaurant</td>\n",
       "      <td>resturant</td>\n",
       "    </tr>\n",
       "  </tbody>\n",
       "</table>\n",
       "</div>"
      ],
      "text/plain": [
       "                    business_name business_type\n",
       "0     John Chin Elementary School        school\n",
       "1       Sutter Pub and Restaurant     resturant\n",
       "2                SRI THAI CUISINE         other\n",
       "3  Washington Bakery & Restaurant     resturant\n",
       "4             Brothers Restaurant     resturant"
      ]
     },
     "execution_count": 9,
     "metadata": {},
     "output_type": "execute_result"
    }
   ],
   "source": [
    "df_new"
   ]
  },
  {
   "cell_type": "code",
   "execution_count": 4,
   "id": "83f2a4fa-7d7e-49f4-813d-d45404c0daf5",
   "metadata": {},
   "outputs": [
    {
     "data": {
      "text/html": [
       "<div><style>\n",
       ".dataframe > thead > tr,\n",
       ".dataframe > tbody > tr {\n",
       "  text-align: right;\n",
       "  white-space: pre-wrap;\n",
       "}\n",
       "</style>\n",
       "<small>shape: (5, 17)</small><table border=\"1\" class=\"dataframe\"><thead><tr><th>business_id</th><th>business_name</th><th>business_address</th><th>business_city</th><th>business_state</th><th>business_postal_code</th><th>business_latitude</th><th>business_longitude</th><th>business_location</th><th>business_phone_number</th><th>inspection_id</th><th>inspection_date</th><th>inspection_score</th><th>inspection_type</th><th>violation_id</th><th>violation_description</th><th>risk_category</th></tr><tr><td>i64</td><td>str</td><td>str</td><td>str</td><td>str</td><td>i64</td><td>f64</td><td>f64</td><td>struct[4]</td><td>null</td><td>str</td><td>str</td><td>i64</td><td>str</td><td>str</td><td>str</td><td>str</td></tr></thead><tbody><tr><td>5800</td><td>&quot;John Chin Elementary School&quot;</td><td>&quot;350 Broadway St&quot;</td><td>&quot;San Francisco&quot;</td><td>&quot;CA&quot;</td><td>94133</td><td>37.8</td><td>-122.4</td><td>{&quot;-122.403154&quot;,false,&quot;37.798358&quot;,&quot;{&quot;address&quot;:&quot;&quot;,&quot;city&quot;:&quot;&quot;,&quot;state&quot;:&quot;&quot;,&quot;zip&quot;:&quot;&quot;}&quot;}</td><td>null</td><td>&quot;5800_20171017&quot;</td><td>&quot;2017-10-17 00:00:00&quot;</td><td>98</td><td>&quot;Routine - Unscheduled&quot;</td><td>&quot;5800_20171017_103149&quot;</td><td>&quot;Wiping cloths not clean or pro…</td><td>&quot;Low Risk&quot;</td></tr><tr><td>64236</td><td>&quot;Sutter Pub and Restaurant&quot;</td><td>&quot;700 Sutter St&quot;</td><td>&quot;San Francisco&quot;</td><td>&quot;CA&quot;</td><td>94102</td><td>37.79</td><td>-122.41</td><td>{&quot;-122.41188&quot;,false,&quot;37.78881&quot;,&quot;{&quot;address&quot;:&quot;&quot;,&quot;city&quot;:&quot;&quot;,&quot;state&quot;:&quot;&quot;,&quot;zip&quot;:&quot;&quot;}&quot;}</td><td>null</td><td>&quot;64236_20170725&quot;</td><td>&quot;2017-07-25 00:00:00&quot;</td><td>88</td><td>&quot;Routine - Unscheduled&quot;</td><td>&quot;64236_20170725_103133&quot;</td><td>&quot;Foods not protected from conta…</td><td>&quot;Moderate Risk&quot;</td></tr><tr><td>1991</td><td>&quot;SRI THAI CUISINE&quot;</td><td>&quot;4621 LINCOLN Way&quot;</td><td>&quot;San Francisco&quot;</td><td>&quot;CA&quot;</td><td>94122</td><td>37.76</td><td>-122.51</td><td>{&quot;-122.507779&quot;,false,&quot;37.764073&quot;,&quot;{&quot;address&quot;:&quot;&quot;,&quot;city&quot;:&quot;&quot;,&quot;state&quot;:&quot;&quot;,&quot;zip&quot;:&quot;&quot;}&quot;}</td><td>null</td><td>&quot;1991_20171129&quot;</td><td>&quot;2017-11-29 00:00:00&quot;</td><td>86</td><td>&quot;Routine - Unscheduled&quot;</td><td>&quot;1991_20171129_103139&quot;</td><td>&quot;Improper food storage&quot;</td><td>&quot;Low Risk&quot;</td></tr><tr><td>3816</td><td>&quot;Washington Bakery &amp; Restaurant&quot;</td><td>&quot;733 Washington St&quot;</td><td>&quot;San Francisco&quot;</td><td>&quot;CA&quot;</td><td>94108</td><td>37.8</td><td>-122.41</td><td>{&quot;-122.405845&quot;,false,&quot;37.795174&quot;,&quot;{&quot;address&quot;:&quot;&quot;,&quot;city&quot;:&quot;&quot;,&quot;state&quot;:&quot;&quot;,&quot;zip&quot;:&quot;&quot;}&quot;}</td><td>null</td><td>&quot;3816_20160728&quot;</td><td>&quot;2016-07-28 00:00:00&quot;</td><td>67</td><td>&quot;Routine - Unscheduled&quot;</td><td>&quot;3816_20160728_103108&quot;</td><td>&quot;Contaminated or adulterated fo…</td><td>&quot;High Risk&quot;</td></tr><tr><td>39119</td><td>&quot;Brothers Restaurant&quot;</td><td>&quot;4128 GEARY Blvd&quot;</td><td>&quot;San Francisco&quot;</td><td>&quot;CA&quot;</td><td>94118</td><td>37.78</td><td>-122.46</td><td>{&quot;-122.463762&quot;,false,&quot;37.781148&quot;,&quot;{&quot;address&quot;:&quot;&quot;,&quot;city&quot;:&quot;&quot;,&quot;state&quot;:&quot;&quot;,&quot;zip&quot;:&quot;&quot;}&quot;}</td><td>null</td><td>&quot;39119_20160718&quot;</td><td>&quot;2016-07-18 00:00:00&quot;</td><td>79</td><td>&quot;Routine - Unscheduled&quot;</td><td>&quot;39119_20160718_103133&quot;</td><td>&quot;Foods not protected from conta…</td><td>&quot;Moderate Risk&quot;</td></tr></tbody></table></div>"
      ],
      "text/plain": [
       "shape: (5, 17)\n",
       "┌─────────────┬──────────────┬──────────────┬──────────────┬───┬─────────────┬─────────────┬─────────────┬─────────────┐\n",
       "│ business_id ┆ business_nam ┆ business_add ┆ business_cit ┆ … ┆ inspection_ ┆ violation_i ┆ violation_d ┆ risk_catego │\n",
       "│ ---         ┆ e            ┆ ress         ┆ y            ┆   ┆ type        ┆ d           ┆ escription  ┆ ry          │\n",
       "│ i64         ┆ ---          ┆ ---          ┆ ---          ┆   ┆ ---         ┆ ---         ┆ ---         ┆ ---         │\n",
       "│             ┆ str          ┆ str          ┆ str          ┆   ┆ str         ┆ str         ┆ str         ┆ str         │\n",
       "╞═════════════╪══════════════╪══════════════╪══════════════╪═══╪═════════════╪═════════════╪═════════════╪═════════════╡\n",
       "│ 5800        ┆ John Chin    ┆ 350 Broadway ┆ San          ┆ … ┆ Routine -   ┆ 5800_201710 ┆ Wiping      ┆ Low Risk    │\n",
       "│             ┆ Elementary   ┆ St           ┆ Francisco    ┆   ┆ Unscheduled ┆ 17_103149   ┆ cloths not  ┆             │\n",
       "│             ┆ School       ┆              ┆              ┆   ┆             ┆             ┆ clean or    ┆             │\n",
       "│             ┆              ┆              ┆              ┆   ┆             ┆             ┆ pro…        ┆             │\n",
       "│ 64236       ┆ Sutter Pub   ┆ 700 Sutter   ┆ San          ┆ … ┆ Routine -   ┆ 64236_20170 ┆ Foods not   ┆ Moderate    │\n",
       "│             ┆ and          ┆ St           ┆ Francisco    ┆   ┆ Unscheduled ┆ 725_103133  ┆ protected   ┆ Risk        │\n",
       "│             ┆ Restaurant   ┆              ┆              ┆   ┆             ┆             ┆ from conta… ┆             │\n",
       "│ 1991        ┆ SRI THAI     ┆ 4621 LINCOLN ┆ San          ┆ … ┆ Routine -   ┆ 1991_201711 ┆ Improper    ┆ Low Risk    │\n",
       "│             ┆ CUISINE      ┆ Way          ┆ Francisco    ┆   ┆ Unscheduled ┆ 29_103139   ┆ food        ┆             │\n",
       "│             ┆              ┆              ┆              ┆   ┆             ┆             ┆ storage     ┆             │\n",
       "│ 3816        ┆ Washington   ┆ 733          ┆ San          ┆ … ┆ Routine -   ┆ 3816_201607 ┆ Contaminate ┆ High Risk   │\n",
       "│             ┆ Bakery &     ┆ Washington   ┆ Francisco    ┆   ┆ Unscheduled ┆ 28_103108   ┆ d or        ┆             │\n",
       "│             ┆ Restaurant   ┆ St           ┆              ┆   ┆             ┆             ┆ adulterated ┆             │\n",
       "│             ┆              ┆              ┆              ┆   ┆             ┆             ┆ fo…         ┆             │\n",
       "│ 39119       ┆ Brothers     ┆ 4128 GEARY   ┆ San          ┆ … ┆ Routine -   ┆ 39119_20160 ┆ Foods not   ┆ Moderate    │\n",
       "│             ┆ Restaurant   ┆ Blvd         ┆ Francisco    ┆   ┆ Unscheduled ┆ 718_103133  ┆ protected   ┆ Risk        │\n",
       "│             ┆              ┆              ┆              ┆   ┆             ┆             ┆ from conta… ┆             │\n",
       "└─────────────┴──────────────┴──────────────┴──────────────┴───┴─────────────┴─────────────┴─────────────┴─────────────┘"
      ]
     },
     "execution_count": 4,
     "metadata": {},
     "output_type": "execute_result"
    }
   ],
   "source": [
    "df_polar.head()"
   ]
  },
  {
   "cell_type": "code",
   "execution_count": 12,
   "id": "4ed8a0e0-eede-4eb6-b8bc-4cd391cf90e4",
   "metadata": {},
   "outputs": [
    {
     "data": {
      "text/html": [
       "<div><style>\n",
       ".dataframe > thead > tr,\n",
       ".dataframe > tbody > tr {\n",
       "  text-align: right;\n",
       "  white-space: pre-wrap;\n",
       "}\n",
       "</style>\n",
       "<small>shape: (5, 2)</small><table border=\"1\" class=\"dataframe\"><thead><tr><th>business_name</th><th>count</th></tr><tr><td>str</td><td>u32</td></tr></thead><tbody><tr><td>&quot;Brothers Restaurant&quot;</td><td>2</td></tr><tr><td>&quot;SRI THAI CUISINE&quot;</td><td>1</td></tr><tr><td>&quot;Sutter Pub and Restaurant&quot;</td><td>1</td></tr><tr><td>&quot;John Chin Elementary School&quot;</td><td>1</td></tr><tr><td>&quot;Washington Bakery &amp; Restaurant&quot;</td><td>1</td></tr></tbody></table></div>"
      ],
      "text/plain": [
       "shape: (5, 2)\n",
       "┌────────────────────────────────┬───────┐\n",
       "│ business_name                  ┆ count │\n",
       "│ ---                            ┆ ---   │\n",
       "│ str                            ┆ u32   │\n",
       "╞════════════════════════════════╪═══════╡\n",
       "│ Brothers Restaurant            ┆ 2     │\n",
       "│ SRI THAI CUISINE               ┆ 1     │\n",
       "│ Sutter Pub and Restaurant      ┆ 1     │\n",
       "│ John Chin Elementary School    ┆ 1     │\n",
       "│ Washington Bakery & Restaurant ┆ 1     │\n",
       "└────────────────────────────────┴───────┘"
      ]
     },
     "execution_count": 12,
     "metadata": {},
     "output_type": "execute_result"
    }
   ],
   "source": [
    "df_polar['business_name'].value_counts()"
   ]
  },
  {
   "cell_type": "code",
   "execution_count": 13,
   "id": "e7953c2f-5acc-41a8-bcef-8249da9c7dbd",
   "metadata": {},
   "outputs": [],
   "source": [
    "# drop duplicates based on the business name column\n",
    "df_polar_new = df_polar.unique(subset = ['business_name'])\n",
    "df_polar_new['business_name'].value_counts()"
   ]
  },
  {
   "cell_type": "code",
   "execution_count": 22,
   "id": "7ed733c8-d8ef-4113-aad3-100089e68b3e",
   "metadata": {},
   "outputs": [
    {
     "data": {
      "text/html": [
       "<div><style>\n",
       ".dataframe > thead > tr,\n",
       ".dataframe > tbody > tr {\n",
       "  text-align: right;\n",
       "  white-space: pre-wrap;\n",
       "}\n",
       "</style>\n",
       "<small>shape: (5,)</small><table border=\"1\" class=\"dataframe\"><thead><tr><th>business_name</th></tr><tr><td>str</td></tr></thead><tbody><tr><td>&quot;washington bakery &amp; restaurant&quot;</td></tr><tr><td>&quot;john chin elementary school&quot;</td></tr><tr><td>&quot;brothers restaurant&quot;</td></tr><tr><td>&quot;sri thai cuisine&quot;</td></tr><tr><td>&quot;sutter pub and restaurant&quot;</td></tr></tbody></table></div>"
      ],
      "text/plain": [
       "shape: (5,)\n",
       "Series: 'business_name' [str]\n",
       "[\n",
       "\t\"washington bakery & restaurant\"\n",
       "\t\"john chin elementary school\"\n",
       "\t\"brothers restaurant\"\n",
       "\t\"sri thai cuisine\"\n",
       "\t\"sutter pub and restaurant\"\n",
       "]"
      ]
     },
     "execution_count": 22,
     "metadata": {},
     "output_type": "execute_result"
    }
   ],
   "source": [
    "# lower = df_polar_new['business_name'].str.to_lowercase()\n",
    "# lower"
   ]
  },
  {
   "cell_type": "code",
   "execution_count": 36,
   "id": "016011e9-f571-41a6-9262-482367ddb20e",
   "metadata": {
    "scrolled": true
   },
   "outputs": [
    {
     "data": {
      "text/html": [
       "<div><style>\n",
       ".dataframe > thead > tr,\n",
       ".dataframe > tbody > tr {\n",
       "  text-align: right;\n",
       "  white-space: pre-wrap;\n",
       "}\n",
       "</style>\n",
       "<small>shape: (5, 18)</small><table border=\"1\" class=\"dataframe\"><thead><tr><th>business_id</th><th>business_name</th><th>business_address</th><th>business_city</th><th>business_state</th><th>business_postal_code</th><th>business_latitude</th><th>business_longitude</th><th>business_location</th><th>business_phone_number</th><th>inspection_id</th><th>inspection_date</th><th>inspection_score</th><th>inspection_type</th><th>violation_id</th><th>violation_description</th><th>risk_category</th><th>lower_business_name</th></tr><tr><td>i64</td><td>str</td><td>str</td><td>str</td><td>str</td><td>i64</td><td>f64</td><td>f64</td><td>struct[4]</td><td>null</td><td>str</td><td>str</td><td>i64</td><td>str</td><td>str</td><td>str</td><td>str</td><td>str</td></tr></thead><tbody><tr><td>3816</td><td>&quot;Washington Bakery &amp; Restaurant&quot;</td><td>&quot;733 Washington St&quot;</td><td>&quot;San Francisco&quot;</td><td>&quot;CA&quot;</td><td>94108</td><td>37.8</td><td>-122.41</td><td>{&quot;-122.405845&quot;,false,&quot;37.795174&quot;,&quot;{&quot;address&quot;:&quot;&quot;,&quot;city&quot;:&quot;&quot;,&quot;state&quot;:&quot;&quot;,&quot;zip&quot;:&quot;&quot;}&quot;}</td><td>null</td><td>&quot;3816_20160728&quot;</td><td>&quot;2016-07-28 00:00:00&quot;</td><td>67</td><td>&quot;Routine - Unscheduled&quot;</td><td>&quot;3816_20160728_103108&quot;</td><td>&quot;Contaminated or adulterated fo…</td><td>&quot;High Risk&quot;</td><td>&quot;washington bakery &amp; restaurant&quot;</td></tr><tr><td>5800</td><td>&quot;John Chin Elementary School&quot;</td><td>&quot;350 Broadway St&quot;</td><td>&quot;San Francisco&quot;</td><td>&quot;CA&quot;</td><td>94133</td><td>37.8</td><td>-122.4</td><td>{&quot;-122.403154&quot;,false,&quot;37.798358&quot;,&quot;{&quot;address&quot;:&quot;&quot;,&quot;city&quot;:&quot;&quot;,&quot;state&quot;:&quot;&quot;,&quot;zip&quot;:&quot;&quot;}&quot;}</td><td>null</td><td>&quot;5800_20171017&quot;</td><td>&quot;2017-10-17 00:00:00&quot;</td><td>98</td><td>&quot;Routine - Unscheduled&quot;</td><td>&quot;5800_20171017_103149&quot;</td><td>&quot;Wiping cloths not clean or pro…</td><td>&quot;Low Risk&quot;</td><td>&quot;john chin elementary school&quot;</td></tr><tr><td>39119</td><td>&quot;Brothers Restaurant&quot;</td><td>&quot;4128 GEARY Blvd&quot;</td><td>&quot;San Francisco&quot;</td><td>&quot;CA&quot;</td><td>94118</td><td>37.78</td><td>-122.46</td><td>{&quot;-122.463762&quot;,false,&quot;37.781148&quot;,&quot;{&quot;address&quot;:&quot;&quot;,&quot;city&quot;:&quot;&quot;,&quot;state&quot;:&quot;&quot;,&quot;zip&quot;:&quot;&quot;}&quot;}</td><td>null</td><td>&quot;39119_20160718&quot;</td><td>&quot;2016-07-18 00:00:00&quot;</td><td>79</td><td>&quot;Routine - Unscheduled&quot;</td><td>&quot;39119_20160718_103133&quot;</td><td>&quot;Foods not protected from conta…</td><td>&quot;Moderate Risk&quot;</td><td>&quot;brothers restaurant&quot;</td></tr><tr><td>1991</td><td>&quot;SRI THAI CUISINE&quot;</td><td>&quot;4621 LINCOLN Way&quot;</td><td>&quot;San Francisco&quot;</td><td>&quot;CA&quot;</td><td>94122</td><td>37.76</td><td>-122.51</td><td>{&quot;-122.507779&quot;,false,&quot;37.764073&quot;,&quot;{&quot;address&quot;:&quot;&quot;,&quot;city&quot;:&quot;&quot;,&quot;state&quot;:&quot;&quot;,&quot;zip&quot;:&quot;&quot;}&quot;}</td><td>null</td><td>&quot;1991_20171129&quot;</td><td>&quot;2017-11-29 00:00:00&quot;</td><td>86</td><td>&quot;Routine - Unscheduled&quot;</td><td>&quot;1991_20171129_103139&quot;</td><td>&quot;Improper food storage&quot;</td><td>&quot;Low Risk&quot;</td><td>&quot;sri thai cuisine&quot;</td></tr><tr><td>64236</td><td>&quot;Sutter Pub and Restaurant&quot;</td><td>&quot;700 Sutter St&quot;</td><td>&quot;San Francisco&quot;</td><td>&quot;CA&quot;</td><td>94102</td><td>37.79</td><td>-122.41</td><td>{&quot;-122.41188&quot;,false,&quot;37.78881&quot;,&quot;{&quot;address&quot;:&quot;&quot;,&quot;city&quot;:&quot;&quot;,&quot;state&quot;:&quot;&quot;,&quot;zip&quot;:&quot;&quot;}&quot;}</td><td>null</td><td>&quot;64236_20170725&quot;</td><td>&quot;2017-07-25 00:00:00&quot;</td><td>88</td><td>&quot;Routine - Unscheduled&quot;</td><td>&quot;64236_20170725_103133&quot;</td><td>&quot;Foods not protected from conta…</td><td>&quot;Moderate Risk&quot;</td><td>&quot;sutter pub and restaurant&quot;</td></tr></tbody></table></div>"
      ],
      "text/plain": [
       "shape: (5, 18)\n",
       "┌─────────────┬──────────────┬──────────────┬──────────────┬───┬─────────────┬─────────────┬─────────────┬─────────────┐\n",
       "│ business_id ┆ business_nam ┆ business_add ┆ business_cit ┆ … ┆ violation_i ┆ violation_d ┆ risk_catego ┆ lower_busin │\n",
       "│ ---         ┆ e            ┆ ress         ┆ y            ┆   ┆ d           ┆ escription  ┆ ry          ┆ ess_name    │\n",
       "│ i64         ┆ ---          ┆ ---          ┆ ---          ┆   ┆ ---         ┆ ---         ┆ ---         ┆ ---         │\n",
       "│             ┆ str          ┆ str          ┆ str          ┆   ┆ str         ┆ str         ┆ str         ┆ str         │\n",
       "╞═════════════╪══════════════╪══════════════╪══════════════╪═══╪═════════════╪═════════════╪═════════════╪═════════════╡\n",
       "│ 3816        ┆ Washington   ┆ 733          ┆ San          ┆ … ┆ 3816_201607 ┆ Contaminate ┆ High Risk   ┆ washington  │\n",
       "│             ┆ Bakery &     ┆ Washington   ┆ Francisco    ┆   ┆ 28_103108   ┆ d or        ┆             ┆ bakery &    │\n",
       "│             ┆ Restaurant   ┆ St           ┆              ┆   ┆             ┆ adulterated ┆             ┆ restaurant  │\n",
       "│             ┆              ┆              ┆              ┆   ┆             ┆ fo…         ┆             ┆             │\n",
       "│ 5800        ┆ John Chin    ┆ 350 Broadway ┆ San          ┆ … ┆ 5800_201710 ┆ Wiping      ┆ Low Risk    ┆ john chin   │\n",
       "│             ┆ Elementary   ┆ St           ┆ Francisco    ┆   ┆ 17_103149   ┆ cloths not  ┆             ┆ elementary  │\n",
       "│             ┆ School       ┆              ┆              ┆   ┆             ┆ clean or    ┆             ┆ school      │\n",
       "│             ┆              ┆              ┆              ┆   ┆             ┆ pro…        ┆             ┆             │\n",
       "│ 39119       ┆ Brothers     ┆ 4128 GEARY   ┆ San          ┆ … ┆ 39119_20160 ┆ Foods not   ┆ Moderate    ┆ brothers    │\n",
       "│             ┆ Restaurant   ┆ Blvd         ┆ Francisco    ┆   ┆ 718_103133  ┆ protected   ┆ Risk        ┆ restaurant  │\n",
       "│             ┆              ┆              ┆              ┆   ┆             ┆ from conta… ┆             ┆             │\n",
       "│ 1991        ┆ SRI THAI     ┆ 4621 LINCOLN ┆ San          ┆ … ┆ 1991_201711 ┆ Improper    ┆ Low Risk    ┆ sri thai    │\n",
       "│             ┆ CUISINE      ┆ Way          ┆ Francisco    ┆   ┆ 29_103139   ┆ food        ┆             ┆ cuisine     │\n",
       "│             ┆              ┆              ┆              ┆   ┆             ┆ storage     ┆             ┆             │\n",
       "│ 64236       ┆ Sutter Pub   ┆ 700 Sutter   ┆ San          ┆ … ┆ 64236_20170 ┆ Foods not   ┆ Moderate    ┆ sutter pub  │\n",
       "│             ┆ and          ┆ St           ┆ Francisco    ┆   ┆ 725_103133  ┆ protected   ┆ Risk        ┆ and         │\n",
       "│             ┆ Restaurant   ┆              ┆              ┆   ┆             ┆ from conta… ┆             ┆ restaurant  │\n",
       "└─────────────┴──────────────┴──────────────┴──────────────┴───┴─────────────┴─────────────┴─────────────┴─────────────┘"
      ]
     },
     "execution_count": 36,
     "metadata": {},
     "output_type": "execute_result"
    }
   ],
   "source": [
    "# result\n",
    "# result\n",
    "## add new lower business name column in df_polar_new df\n",
    "df_polar_new = df_polar_new.with_columns(\n",
    "    pl.col('business_name').str.to_lowercase().alias('lower_business_name')\n",
    ")\n",
    "df_polar_new"
   ]
  },
  {
   "cell_type": "code",
   "execution_count": 38,
   "id": "86017f81-16a9-42dc-911c-25ba6ad1f362",
   "metadata": {},
   "outputs": [
    {
     "data": {
      "text/plain": [
       "['business_id',\n",
       " 'business_name',\n",
       " 'business_address',\n",
       " 'business_city',\n",
       " 'business_state',\n",
       " 'business_postal_code',\n",
       " 'business_latitude',\n",
       " 'business_longitude',\n",
       " 'business_location',\n",
       " 'business_phone_number',\n",
       " 'inspection_id',\n",
       " 'inspection_date',\n",
       " 'inspection_score',\n",
       " 'inspection_type',\n",
       " 'violation_id',\n",
       " 'violation_description',\n",
       " 'risk_category',\n",
       " 'lower_business_name']"
      ]
     },
     "execution_count": 38,
     "metadata": {},
     "output_type": "execute_result"
    }
   ],
   "source": [
    "df_polar_new.columns"
   ]
  },
  {
   "cell_type": "code",
   "execution_count": 55,
   "id": "545f2c7f-611f-431e-b3e7-e56aa2046038",
   "metadata": {},
   "outputs": [],
   "source": [
    "df_polar_new = df_polar_new.with_columns(\n",
    "    pl.when(pl.col('lower_business_name').str.contains(\"restaurant\")).then(pl.lit(\"restaurant\"))\n",
    "    .when(pl.col('lower_business_name').str.contains(\"school\")).then(pl.lit(\"school\"))\n",
    "    .when(pl.col('lower_business_name').str.contains(\"cafe|café|coffee\")).then(pl.lit(\"cafe\"))\n",
    "    .otherwise(pl.lit(\"other\")).alias('business_type')\n",
    ")"
   ]
  },
  {
   "cell_type": "code",
   "execution_count": 57,
   "id": "23766169-7fe3-4cf3-8eca-2a67a1d6a89d",
   "metadata": {},
   "outputs": [
    {
     "data": {
      "text/html": [
       "<div><style>\n",
       ".dataframe > thead > tr,\n",
       ".dataframe > tbody > tr {\n",
       "  text-align: right;\n",
       "  white-space: pre-wrap;\n",
       "}\n",
       "</style>\n",
       "<small>shape: (5, 2)</small><table border=\"1\" class=\"dataframe\"><thead><tr><th>business_name</th><th>business_type</th></tr><tr><td>str</td><td>str</td></tr></thead><tbody><tr><td>&quot;Washington Bakery &amp; Restaurant&quot;</td><td>&quot;restaurant&quot;</td></tr><tr><td>&quot;John Chin Elementary School&quot;</td><td>&quot;school&quot;</td></tr><tr><td>&quot;Brothers Restaurant&quot;</td><td>&quot;restaurant&quot;</td></tr><tr><td>&quot;SRI THAI CUISINE&quot;</td><td>&quot;other&quot;</td></tr><tr><td>&quot;Sutter Pub and Restaurant&quot;</td><td>&quot;restaurant&quot;</td></tr></tbody></table></div>"
      ],
      "text/plain": [
       "shape: (5, 2)\n",
       "┌────────────────────────────────┬───────────────┐\n",
       "│ business_name                  ┆ business_type │\n",
       "│ ---                            ┆ ---           │\n",
       "│ str                            ┆ str           │\n",
       "╞════════════════════════════════╪═══════════════╡\n",
       "│ Washington Bakery & Restaurant ┆ restaurant    │\n",
       "│ John Chin Elementary School    ┆ school        │\n",
       "│ Brothers Restaurant            ┆ restaurant    │\n",
       "│ SRI THAI CUISINE               ┆ other         │\n",
       "│ Sutter Pub and Restaurant      ┆ restaurant    │\n",
       "└────────────────────────────────┴───────────────┘"
      ]
     },
     "execution_count": 57,
     "metadata": {},
     "output_type": "execute_result"
    }
   ],
   "source": [
    "df_polar_new[['business_name', 'business_type']]"
   ]
  },
  {
   "cell_type": "markdown",
   "id": "1dd11f0b-46d1-4f0c-9aba-0870fbc91e74",
   "metadata": {},
   "source": [
    "# SOlution in polar"
   ]
  },
  {
   "cell_type": "code",
   "execution_count": null,
   "id": "15a1e574-97b4-4cf5-b780-d2a4ae9fb339",
   "metadata": {},
   "outputs": [],
   "source": [
    "\n",
    "df_new = sf_restaurant_health_violations.unique(subset = ['business_name'])\n",
    "\n",
    "df_new = df_new.with_columns(\n",
    "    pl.col('business_name').str.to_lowercase().alias('lower_business_name')\n",
    "    )\n",
    "df_new = df_new.with_columns(\n",
    "    pl.when(pl.col('lower_business_name').str.contains(\"restaurant\")).then(pl.lit(\"restaurant\"))\n",
    "    .when(pl.col('lower_business_name').str.contains(\"school\")).then(pl.lit(\"school\"))\n",
    "    .when(pl.col('lower_business_name').str.contains(\"cafe|café|coffee\")).then(pl.lit(\"cafe\"))\n",
    "    .otherwise(pl.lit(\"other\")).alias('business_type')\n",
    "    )\n",
    "result = df_new.select(\n",
    "    pl.col('business_name'),\n",
    "    pl.col('business_type')\n",
    "    )\n",
    "    \n",
    "result"
   ]
  },
  {
   "cell_type": "code",
   "execution_count": null,
   "id": "b223ff53-340b-47c4-bd9e-6b813270f5c5",
   "metadata": {},
   "outputs": [],
   "source": [
    "# sql\n",
    "select DISTINCT business_name, CASE WHEN LOWER(business_name) LIKE '%restaurant%' THEN 'restaurant'\n",
    "WHEN LOWER LOWER(business_name) LIKE '%school%' THEN 'school'\n",
    "LOWER(business_name) LIKE '%cafe%'  OR LOWER(business_name) LIKE '%café%'  OR LOWER(business_name) LIKE '%coffee%' THEN 'cafe'\n",
    "ELSE 'other' END AS business_type\n",
    "from df"
   ]
  },
  {
   "cell_type": "code",
   "execution_count": 44,
   "id": "8bf45a12-5287-4bd4-8a82-579efa813b4b",
   "metadata": {},
   "outputs": [
    {
     "data": {
      "text/html": [
       "<div><style>\n",
       ".dataframe > thead > tr,\n",
       ".dataframe > tbody > tr {\n",
       "  text-align: right;\n",
       "  white-space: pre-wrap;\n",
       "}\n",
       "</style>\n",
       "<small>shape: (3, 2)</small><table border=\"1\" class=\"dataframe\"><thead><tr><th>foo</th><th>bar</th></tr><tr><td>i64</td><td>i64</td></tr></thead><tbody><tr><td>1</td><td>3</td></tr><tr><td>3</td><td>4</td></tr><tr><td>4</td><td>0</td></tr></tbody></table></div>"
      ],
      "text/plain": [
       "shape: (3, 2)\n",
       "┌─────┬─────┐\n",
       "│ foo ┆ bar │\n",
       "│ --- ┆ --- │\n",
       "│ i64 ┆ i64 │\n",
       "╞═════╪═════╡\n",
       "│ 1   ┆ 3   │\n",
       "│ 3   ┆ 4   │\n",
       "│ 4   ┆ 0   │\n",
       "└─────┴─────┘"
      ]
     },
     "execution_count": 44,
     "metadata": {},
     "output_type": "execute_result"
    }
   ],
   "source": [
    "df = pl.DataFrame({\"foo\": [1, 3, 4], \"bar\": [3, 4, 0]})\n",
    "df"
   ]
  },
  {
   "cell_type": "code",
   "execution_count": 45,
   "id": "090f40b4-1964-4ce4-8b47-5b194050fe34",
   "metadata": {},
   "outputs": [
    {
     "data": {
      "text/html": [
       "<div><style>\n",
       ".dataframe > thead > tr,\n",
       ".dataframe > tbody > tr {\n",
       "  text-align: right;\n",
       "  white-space: pre-wrap;\n",
       "}\n",
       "</style>\n",
       "<small>shape: (3, 3)</small><table border=\"1\" class=\"dataframe\"><thead><tr><th>foo</th><th>bar</th><th>val</th></tr><tr><td>i64</td><td>i64</td><td>i32</td></tr></thead><tbody><tr><td>1</td><td>3</td><td>-1</td></tr><tr><td>3</td><td>4</td><td>1</td></tr><tr><td>4</td><td>0</td><td>1</td></tr></tbody></table></div>"
      ],
      "text/plain": [
       "shape: (3, 3)\n",
       "┌─────┬─────┬─────┐\n",
       "│ foo ┆ bar ┆ val │\n",
       "│ --- ┆ --- ┆ --- │\n",
       "│ i64 ┆ i64 ┆ i32 │\n",
       "╞═════╪═════╪═════╡\n",
       "│ 1   ┆ 3   ┆ -1  │\n",
       "│ 3   ┆ 4   ┆ 1   │\n",
       "│ 4   ┆ 0   ┆ 1   │\n",
       "└─────┴─────┴─────┘"
      ]
     },
     "execution_count": 45,
     "metadata": {},
     "output_type": "execute_result"
    }
   ],
   "source": [
    "df.with_columns(pl.when(pl.col(\"foo\") > 2).then(1).otherwise(-1).alias(\"val\"))"
   ]
  },
  {
   "cell_type": "code",
   "execution_count": null,
   "id": "0c31dea2-a97d-4357-be62-5aa1a811e23d",
   "metadata": {},
   "outputs": [],
   "source": []
  }
 ],
 "metadata": {
  "kernelspec": {
   "display_name": "Python 3 (ipykernel)",
   "language": "python",
   "name": "python3"
  },
  "language_info": {
   "codemirror_mode": {
    "name": "ipython",
    "version": 3
   },
   "file_extension": ".py",
   "mimetype": "text/x-python",
   "name": "python",
   "nbconvert_exporter": "python",
   "pygments_lexer": "ipython3",
   "version": "3.12.6"
  }
 },
 "nbformat": 4,
 "nbformat_minor": 5
}
