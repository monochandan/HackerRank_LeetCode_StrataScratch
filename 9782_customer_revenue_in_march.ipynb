{
 "cells": [
  {
   "cell_type": "markdown",
   "id": "a27b8589-48ab-4246-a9b1-e16967cefa34",
   "metadata": {},
   "source": [
    "# Polar datetime conversion\n",
    "https://www.confessionsofadataguy.com/date-and-datetime-manipulation-in-polar/"
   ]
  },
  {
   "cell_type": "code",
   "execution_count": 1,
   "id": "eb2c4ea4-c0c7-4e12-bdf4-69a9750d19c4",
   "metadata": {},
   "outputs": [],
   "source": [
    "import pandas as pd\n",
    "import polars as pl"
   ]
  },
  {
   "cell_type": "code",
   "execution_count": 10,
   "id": "88b6e31e-1455-485d-b7cc-88c5fdb4399c",
   "metadata": {},
   "outputs": [],
   "source": [
    "# Create the DataFrame\n",
    "data = {\n",
    "    \"id\": [1, 2, 3, 4, 5, 6, 7, 8, 9, 10, 11, 12, 13, 14, 15, 16, 17, 18, 19, 20, 21, 22, 23, 24, 25],\n",
    "    \"cust_id\": [3, 3, 3, 7, 7, 15, 15, 15, 15, 15, 5, 12, 12, 4, 4, 3, 7, 15, 15, 12, 7, 7, 7, 7, 7],\n",
    "    \"order_date\": [\n",
    "        \"2019-03-04\", \"2019-03-01\", \"2019-03-07\", \"2019-02-01\", \"2019-03-10\", \"2019-02-01\", \n",
    "        \"2019-01-11\", \"2019-03-11\", \"2019-03-01\", \"2019-03-09\", \"2019-02-01\", \"2019-01-11\", \n",
    "        \"2019-03-11\", \"2019-02-01\", \"2019-01-11\", \"2019-04-19\", \"2019-04-19\", \"2019-04-19\", \n",
    "        \"2019-04-20\", \"2019-01-11\", \"2019-04-01\", \"2019-04-02\", \"2019-04-03\", \"2019-04-04\", \n",
    "        \"2019-04-19\"\n",
    "    ],\n",
    "    \"order_details\": [\n",
    "        \"Coat\", \"Shoes\", \"Skirt\", \"Coat\", \"Shoes\", \"Boats\", \"Shirts\", \"Slipper\", \"Jeans\", \n",
    "        \"Shirts\", \"Shoes\", \"Shirts\", \"Slipper\", \"Shoes\", \"Shirts\", \"Shirts\", \"Suit\", \"Skirt\", \n",
    "        \"Dresses\", \"Coat\", \"Suit\", \"Skirt\", \"Dresses\", \"Coat\", \"Coat\"\n",
    "    ],\n",
    "    \"total_order_cost\": [\n",
    "        100, 80, 30, 25, 80, 100, 60, 20, 80, 50, 80, 60, 20, 80, 60, 50, 150, 30, 200, \n",
    "        125, 50, 30, 50, 25, 125\n",
    "    ]\n",
    "}\n",
    "\n",
    "orders = pd.DataFrame(data)\n",
    "pl_orders = pl.DataFrame(data)\n",
    "# # Display the DataFrame\n",
    "# print(df)"
   ]
  },
  {
   "cell_type": "code",
   "execution_count": 11,
   "id": "4b8a47ce-ef3c-45d6-94e2-05a078e5e9a4",
   "metadata": {},
   "outputs": [
    {
     "data": {
      "text/html": [
       "<div>\n",
       "<style scoped>\n",
       "    .dataframe tbody tr th:only-of-type {\n",
       "        vertical-align: middle;\n",
       "    }\n",
       "\n",
       "    .dataframe tbody tr th {\n",
       "        vertical-align: top;\n",
       "    }\n",
       "\n",
       "    .dataframe thead th {\n",
       "        text-align: right;\n",
       "    }\n",
       "</style>\n",
       "<table border=\"1\" class=\"dataframe\">\n",
       "  <thead>\n",
       "    <tr style=\"text-align: right;\">\n",
       "      <th></th>\n",
       "      <th>id</th>\n",
       "      <th>cust_id</th>\n",
       "      <th>order_date</th>\n",
       "      <th>order_details</th>\n",
       "      <th>total_order_cost</th>\n",
       "    </tr>\n",
       "  </thead>\n",
       "  <tbody>\n",
       "    <tr>\n",
       "      <th>0</th>\n",
       "      <td>1</td>\n",
       "      <td>3</td>\n",
       "      <td>2019-03-04</td>\n",
       "      <td>Coat</td>\n",
       "      <td>100</td>\n",
       "    </tr>\n",
       "    <tr>\n",
       "      <th>1</th>\n",
       "      <td>2</td>\n",
       "      <td>3</td>\n",
       "      <td>2019-03-01</td>\n",
       "      <td>Shoes</td>\n",
       "      <td>80</td>\n",
       "    </tr>\n",
       "    <tr>\n",
       "      <th>2</th>\n",
       "      <td>3</td>\n",
       "      <td>3</td>\n",
       "      <td>2019-03-07</td>\n",
       "      <td>Skirt</td>\n",
       "      <td>30</td>\n",
       "    </tr>\n",
       "    <tr>\n",
       "      <th>3</th>\n",
       "      <td>4</td>\n",
       "      <td>7</td>\n",
       "      <td>2019-02-01</td>\n",
       "      <td>Coat</td>\n",
       "      <td>25</td>\n",
       "    </tr>\n",
       "    <tr>\n",
       "      <th>4</th>\n",
       "      <td>5</td>\n",
       "      <td>7</td>\n",
       "      <td>2019-03-10</td>\n",
       "      <td>Shoes</td>\n",
       "      <td>80</td>\n",
       "    </tr>\n",
       "  </tbody>\n",
       "</table>\n",
       "</div>"
      ],
      "text/plain": [
       "   id  cust_id  order_date order_details  total_order_cost\n",
       "0   1        3  2019-03-04          Coat               100\n",
       "1   2        3  2019-03-01         Shoes                80\n",
       "2   3        3  2019-03-07         Skirt                30\n",
       "3   4        7  2019-02-01          Coat                25\n",
       "4   5        7  2019-03-10         Shoes                80"
      ]
     },
     "execution_count": 11,
     "metadata": {},
     "output_type": "execute_result"
    }
   ],
   "source": [
    "orders.head()"
   ]
  },
  {
   "cell_type": "markdown",
   "id": "b47ced0d-f352-47dc-96a8-6faec7d67be5",
   "metadata": {},
   "source": [
    "Calculate the total revenue from each customer in March 2019. Include only customers who were active in March 2019.\n",
    "\n",
    "\n",
    "Output the revenue along with the customer id and sort the results based on the revenue in descending order."
   ]
  },
  {
   "cell_type": "code",
   "execution_count": 12,
   "id": "bf571cac-3296-4255-9ab2-90b8a05024b4",
   "metadata": {},
   "outputs": [
    {
     "data": {
      "text/html": [
       "<div>\n",
       "<style scoped>\n",
       "    .dataframe tbody tr th:only-of-type {\n",
       "        vertical-align: middle;\n",
       "    }\n",
       "\n",
       "    .dataframe tbody tr th {\n",
       "        vertical-align: top;\n",
       "    }\n",
       "\n",
       "    .dataframe thead th {\n",
       "        text-align: right;\n",
       "    }\n",
       "</style>\n",
       "<table border=\"1\" class=\"dataframe\">\n",
       "  <thead>\n",
       "    <tr style=\"text-align: right;\">\n",
       "      <th></th>\n",
       "      <th>cust_id</th>\n",
       "      <th>revenue</th>\n",
       "    </tr>\n",
       "  </thead>\n",
       "  <tbody>\n",
       "    <tr>\n",
       "      <th>0</th>\n",
       "      <td>3</td>\n",
       "      <td>210</td>\n",
       "    </tr>\n",
       "    <tr>\n",
       "      <th>3</th>\n",
       "      <td>15</td>\n",
       "      <td>150</td>\n",
       "    </tr>\n",
       "    <tr>\n",
       "      <th>1</th>\n",
       "      <td>7</td>\n",
       "      <td>80</td>\n",
       "    </tr>\n",
       "    <tr>\n",
       "      <th>2</th>\n",
       "      <td>12</td>\n",
       "      <td>20</td>\n",
       "    </tr>\n",
       "  </tbody>\n",
       "</table>\n",
       "</div>"
      ],
      "text/plain": [
       "   cust_id  revenue\n",
       "0        3      210\n",
       "3       15      150\n",
       "1        7       80\n",
       "2       12       20"
      ]
     },
     "execution_count": 12,
     "metadata": {},
     "output_type": "execute_result"
    }
   ],
   "source": [
    "# orders['order_date'] = orders['order_date'].dt.strftime('%Y-%m-%d')\n",
    "orders[orders['order_date'].between('2019-03-01', '2019-03-31')].groupby('cust_id')['total_order_cost'].sum().reset_index().rename(columns= {'total_order_cost': 'revenue'}).sort_values(by = 'revenue', ascending = False)"
   ]
  },
  {
   "cell_type": "code",
   "execution_count": null,
   "id": "41d43b8f-25b4-42c8-84d8-66e612ba4cdd",
   "metadata": {},
   "outputs": [],
   "source": [
    "# sql\n",
    "select cust_id, sum(total_order_cost) as revenue\n",
    "from orders\n",
    "where order_date BETWEEN '2019-03-01' AND '2019-03-31'\n",
    "group by cust_id\n",
    "order by revenie desc"
   ]
  },
  {
   "cell_type": "code",
   "execution_count": 15,
   "id": "c525ef3a-be3e-46f1-b3ca-4000ac8f82a5",
   "metadata": {},
   "outputs": [],
   "source": [
    "# df_new = sf_restaurant_health_violations.unique(subset = ['business_name'])\n",
    "\n",
    "# df_new = df_new.with_columns(\n",
    "#     pl.col('business_name').str.to_lowercase().alias('lower_business_name')\n",
    "#     )\n",
    "# df_new = df_new.with_columns(\n",
    "#     pl.when(pl.col('lower_business_name').str.contains(\"restaurant\")).then(pl.lit(\"restaurant\"))\n",
    "#     .when(pl.col('lower_business_name').str.contains(\"school\")).then(pl.lit(\"school\"))\n",
    "#     .when(pl.col('lower_business_name').str.contains(\"cafe|café|coffee\")).then(pl.lit(\"cafe\"))\n",
    "#     .otherwise(pl.lit(\"other\")).alias('business_type')\n",
    "#     )\n",
    "# result = df_new.select(\n",
    "#     pl.col('business_name'),\n",
    "#     pl.col('business_type')\n",
    "#     )\n",
    "    \n",
    "# result\n",
    "\n",
    "# orders['order_date'] = orders['order_date'].dt.strftime('%Y-%m-%d')\n",
    "# orders[orders['order_date'].between('2019-03-01', '2019-03-31')].groupby('cust_id')['total_order_cost'].\n",
    "#                             sum().reset_index().rename(columns= {'total_order_cost': 'revenue'}).\n",
    "#                             sort_values(by = 'revenue', ascending = False)\n",
    "# pl_orders = pl_orders.with_columns(\n",
    "#     pl_orders['order_date'].dt.strftime('%Y-%m-%d')\n",
    "# )\n",
    "\n",
    "\n"
   ]
  },
  {
   "cell_type": "code",
   "execution_count": 29,
   "id": "4870ea97-53c7-4751-9c5e-c633bd35e9cf",
   "metadata": {},
   "outputs": [],
   "source": [
    "# Create the Polars DataFrame\n",
    "df_polar = pl.DataFrame({\n",
    "    \"id\": [1, 2, 3, 4, 5],\n",
    "    \"cust_id\": [3, 3, 3, 7, 7],\n",
    "    \"order_date\": [\n",
    "        \"2019-03-04 00:00:00\",\n",
    "        \"2019-03-01 00:00:00\",\n",
    "        \"2019-03-07 00:00:00\",\n",
    "        \"2019-02-01 00:00:00\",\n",
    "        \"2019-03-10 00:00:00\"\n",
    "    ],\n",
    "    \"order_details\": [\"Coat\", \"Shoes\", \"Skirt\", \"Coat\", \"Shoes\"],\n",
    "    \"total_order_cost\": [100, 80, 30, 25, 80]\n",
    "})\n",
    "\n"
   ]
  },
  {
   "cell_type": "code",
   "execution_count": 30,
   "id": "84ad8e26-abb3-41da-8cda-70cd05f780d3",
   "metadata": {},
   "outputs": [
    {
     "data": {
      "text/html": [
       "<div><style>\n",
       ".dataframe > thead > tr,\n",
       ".dataframe > tbody > tr {\n",
       "  text-align: right;\n",
       "  white-space: pre-wrap;\n",
       "}\n",
       "</style>\n",
       "<small>shape: (5, 5)</small><table border=\"1\" class=\"dataframe\"><thead><tr><th>id</th><th>cust_id</th><th>order_date</th><th>order_details</th><th>total_order_cost</th></tr><tr><td>i64</td><td>i64</td><td>str</td><td>str</td><td>i64</td></tr></thead><tbody><tr><td>1</td><td>3</td><td>&quot;2019-03-04 00:00:00&quot;</td><td>&quot;Coat&quot;</td><td>100</td></tr><tr><td>2</td><td>3</td><td>&quot;2019-03-01 00:00:00&quot;</td><td>&quot;Shoes&quot;</td><td>80</td></tr><tr><td>3</td><td>3</td><td>&quot;2019-03-07 00:00:00&quot;</td><td>&quot;Skirt&quot;</td><td>30</td></tr><tr><td>4</td><td>7</td><td>&quot;2019-02-01 00:00:00&quot;</td><td>&quot;Coat&quot;</td><td>25</td></tr><tr><td>5</td><td>7</td><td>&quot;2019-03-10 00:00:00&quot;</td><td>&quot;Shoes&quot;</td><td>80</td></tr></tbody></table></div>"
      ],
      "text/plain": [
       "shape: (5, 5)\n",
       "┌─────┬─────────┬─────────────────────┬───────────────┬──────────────────┐\n",
       "│ id  ┆ cust_id ┆ order_date          ┆ order_details ┆ total_order_cost │\n",
       "│ --- ┆ ---     ┆ ---                 ┆ ---           ┆ ---              │\n",
       "│ i64 ┆ i64     ┆ str                 ┆ str           ┆ i64              │\n",
       "╞═════╪═════════╪═════════════════════╪═══════════════╪══════════════════╡\n",
       "│ 1   ┆ 3       ┆ 2019-03-04 00:00:00 ┆ Coat          ┆ 100              │\n",
       "│ 2   ┆ 3       ┆ 2019-03-01 00:00:00 ┆ Shoes         ┆ 80               │\n",
       "│ 3   ┆ 3       ┆ 2019-03-07 00:00:00 ┆ Skirt         ┆ 30               │\n",
       "│ 4   ┆ 7       ┆ 2019-02-01 00:00:00 ┆ Coat          ┆ 25               │\n",
       "│ 5   ┆ 7       ┆ 2019-03-10 00:00:00 ┆ Shoes         ┆ 80               │\n",
       "└─────┴─────────┴─────────────────────┴───────────────┴──────────────────┘"
      ]
     },
     "execution_count": 30,
     "metadata": {},
     "output_type": "execute_result"
    }
   ],
   "source": [
    "df_polar.head()"
   ]
  },
  {
   "cell_type": "code",
   "execution_count": 31,
   "id": "cf037218-3bea-4add-95de-ef70b5ebae8d",
   "metadata": {},
   "outputs": [
    {
     "data": {
      "text/html": [
       "<div><style>\n",
       ".dataframe > thead > tr,\n",
       ".dataframe > tbody > tr {\n",
       "  text-align: right;\n",
       "  white-space: pre-wrap;\n",
       "}\n",
       "</style>\n",
       "<small>shape: (5, 5)</small><table border=\"1\" class=\"dataframe\"><thead><tr><th>id</th><th>cust_id</th><th>order_date</th><th>order_details</th><th>total_order_cost</th></tr><tr><td>i64</td><td>i64</td><td>datetime[μs]</td><td>str</td><td>i64</td></tr></thead><tbody><tr><td>1</td><td>3</td><td>2019-03-04 00:00:00</td><td>&quot;Coat&quot;</td><td>100</td></tr><tr><td>2</td><td>3</td><td>2019-03-01 00:00:00</td><td>&quot;Shoes&quot;</td><td>80</td></tr><tr><td>3</td><td>3</td><td>2019-03-07 00:00:00</td><td>&quot;Skirt&quot;</td><td>30</td></tr><tr><td>4</td><td>7</td><td>2019-02-01 00:00:00</td><td>&quot;Coat&quot;</td><td>25</td></tr><tr><td>5</td><td>7</td><td>2019-03-10 00:00:00</td><td>&quot;Shoes&quot;</td><td>80</td></tr></tbody></table></div>"
      ],
      "text/plain": [
       "shape: (5, 5)\n",
       "┌─────┬─────────┬─────────────────────┬───────────────┬──────────────────┐\n",
       "│ id  ┆ cust_id ┆ order_date          ┆ order_details ┆ total_order_cost │\n",
       "│ --- ┆ ---     ┆ ---                 ┆ ---           ┆ ---              │\n",
       "│ i64 ┆ i64     ┆ datetime[μs]        ┆ str           ┆ i64              │\n",
       "╞═════╪═════════╪═════════════════════╪═══════════════╪══════════════════╡\n",
       "│ 1   ┆ 3       ┆ 2019-03-04 00:00:00 ┆ Coat          ┆ 100              │\n",
       "│ 2   ┆ 3       ┆ 2019-03-01 00:00:00 ┆ Shoes         ┆ 80               │\n",
       "│ 3   ┆ 3       ┆ 2019-03-07 00:00:00 ┆ Skirt         ┆ 30               │\n",
       "│ 4   ┆ 7       ┆ 2019-02-01 00:00:00 ┆ Coat          ┆ 25               │\n",
       "│ 5   ┆ 7       ┆ 2019-03-10 00:00:00 ┆ Shoes         ┆ 80               │\n",
       "└─────┴─────────┴─────────────────────┴───────────────┴──────────────────┘"
      ]
     },
     "execution_count": 31,
     "metadata": {},
     "output_type": "execute_result"
    }
   ],
   "source": [
    "df_polar = df_polar.with_columns(\n",
    "    pl.col('order_date').str.strptime(pl.Datetime, '%Y-%m-%d %H:%M:%S').alias('order_date')\n",
    "    \n",
    ")\n",
    "df_polar"
   ]
  },
  {
   "cell_type": "code",
   "execution_count": 33,
   "id": "a9571eaa-7737-4c35-91b6-c2bbd2e5b4f3",
   "metadata": {},
   "outputs": [
    {
     "data": {
      "text/html": [
       "<div><style>\n",
       ".dataframe > thead > tr,\n",
       ".dataframe > tbody > tr {\n",
       "  text-align: right;\n",
       "  white-space: pre-wrap;\n",
       "}\n",
       "</style>\n",
       "<small>shape: (5, 5)</small><table border=\"1\" class=\"dataframe\"><thead><tr><th>id</th><th>cust_id</th><th>order_date</th><th>order_details</th><th>total_order_cost</th></tr><tr><td>i64</td><td>i64</td><td>date</td><td>str</td><td>i64</td></tr></thead><tbody><tr><td>1</td><td>3</td><td>2019-03-04</td><td>&quot;Coat&quot;</td><td>100</td></tr><tr><td>2</td><td>3</td><td>2019-03-01</td><td>&quot;Shoes&quot;</td><td>80</td></tr><tr><td>3</td><td>3</td><td>2019-03-07</td><td>&quot;Skirt&quot;</td><td>30</td></tr><tr><td>4</td><td>7</td><td>2019-02-01</td><td>&quot;Coat&quot;</td><td>25</td></tr><tr><td>5</td><td>7</td><td>2019-03-10</td><td>&quot;Shoes&quot;</td><td>80</td></tr></tbody></table></div>"
      ],
      "text/plain": [
       "shape: (5, 5)\n",
       "┌─────┬─────────┬────────────┬───────────────┬──────────────────┐\n",
       "│ id  ┆ cust_id ┆ order_date ┆ order_details ┆ total_order_cost │\n",
       "│ --- ┆ ---     ┆ ---        ┆ ---           ┆ ---              │\n",
       "│ i64 ┆ i64     ┆ date       ┆ str           ┆ i64              │\n",
       "╞═════╪═════════╪════════════╪═══════════════╪══════════════════╡\n",
       "│ 1   ┆ 3       ┆ 2019-03-04 ┆ Coat          ┆ 100              │\n",
       "│ 2   ┆ 3       ┆ 2019-03-01 ┆ Shoes         ┆ 80               │\n",
       "│ 3   ┆ 3       ┆ 2019-03-07 ┆ Skirt         ┆ 30               │\n",
       "│ 4   ┆ 7       ┆ 2019-02-01 ┆ Coat          ┆ 25               │\n",
       "│ 5   ┆ 7       ┆ 2019-03-10 ┆ Shoes         ┆ 80               │\n",
       "└─────┴─────────┴────────────┴───────────────┴──────────────────┘"
      ]
     },
     "execution_count": 33,
     "metadata": {},
     "output_type": "execute_result"
    }
   ],
   "source": [
    "df_polar = df_polar.with_columns(\n",
    "    # pl.col('order_date').str.strptime(pl.Date,'%Y-%m-%d').alias('order_date')\n",
    "    pl.col('order_date').cast(pl.Date).alias('order_date')\n",
    ")\n",
    "df_polar"
   ]
  },
  {
   "cell_type": "code",
   "execution_count": 34,
   "id": "d2e7ad61-41da-49fb-964b-34eec2acd225",
   "metadata": {},
   "outputs": [
    {
     "data": {
      "text/html": [
       "<div><style>\n",
       ".dataframe > thead > tr,\n",
       ".dataframe > tbody > tr {\n",
       "  text-align: right;\n",
       "  white-space: pre-wrap;\n",
       "}\n",
       "</style>\n",
       "<small>shape: (5, 5)</small><table border=\"1\" class=\"dataframe\"><thead><tr><th>id</th><th>cust_id</th><th>order_date</th><th>order_details</th><th>total_order_cost</th></tr><tr><td>i64</td><td>i64</td><td>date</td><td>str</td><td>i64</td></tr></thead><tbody><tr><td>1</td><td>3</td><td>2019-03-04</td><td>&quot;Coat&quot;</td><td>100</td></tr><tr><td>2</td><td>3</td><td>2019-03-01</td><td>&quot;Shoes&quot;</td><td>80</td></tr><tr><td>3</td><td>3</td><td>2019-03-07</td><td>&quot;Skirt&quot;</td><td>30</td></tr><tr><td>4</td><td>7</td><td>2019-02-01</td><td>&quot;Coat&quot;</td><td>25</td></tr><tr><td>5</td><td>7</td><td>2019-03-10</td><td>&quot;Shoes&quot;</td><td>80</td></tr></tbody></table></div>"
      ],
      "text/plain": [
       "shape: (5, 5)\n",
       "┌─────┬─────────┬────────────┬───────────────┬──────────────────┐\n",
       "│ id  ┆ cust_id ┆ order_date ┆ order_details ┆ total_order_cost │\n",
       "│ --- ┆ ---     ┆ ---        ┆ ---           ┆ ---              │\n",
       "│ i64 ┆ i64     ┆ date       ┆ str           ┆ i64              │\n",
       "╞═════╪═════════╪════════════╪═══════════════╪══════════════════╡\n",
       "│ 1   ┆ 3       ┆ 2019-03-04 ┆ Coat          ┆ 100              │\n",
       "│ 2   ┆ 3       ┆ 2019-03-01 ┆ Shoes         ┆ 80               │\n",
       "│ 3   ┆ 3       ┆ 2019-03-07 ┆ Skirt         ┆ 30               │\n",
       "│ 4   ┆ 7       ┆ 2019-02-01 ┆ Coat          ┆ 25               │\n",
       "│ 5   ┆ 7       ┆ 2019-03-10 ┆ Shoes         ┆ 80               │\n",
       "└─────┴─────────┴────────────┴───────────────┴──────────────────┘"
      ]
     },
     "execution_count": 34,
     "metadata": {},
     "output_type": "execute_result"
    }
   ],
   "source": [
    "df_polar.head()"
   ]
  },
  {
   "cell_type": "code",
   "execution_count": 45,
   "id": "b667999c-5e23-4457-a06b-b652098444b2",
   "metadata": {},
   "outputs": [
    {
     "data": {
      "text/html": [
       "<div><style>\n",
       ".dataframe > thead > tr,\n",
       ".dataframe > tbody > tr {\n",
       "  text-align: right;\n",
       "  white-space: pre-wrap;\n",
       "}\n",
       "</style>\n",
       "<small>shape: (2, 2)</small><table border=\"1\" class=\"dataframe\"><thead><tr><th>cust_id</th><th>revenue</th></tr><tr><td>i64</td><td>i64</td></tr></thead><tbody><tr><td>3</td><td>210</td></tr><tr><td>7</td><td>80</td></tr></tbody></table></div>"
      ],
      "text/plain": [
       "shape: (2, 2)\n",
       "┌─────────┬─────────┐\n",
       "│ cust_id ┆ revenue │\n",
       "│ ---     ┆ ---     │\n",
       "│ i64     ┆ i64     │\n",
       "╞═════════╪═════════╡\n",
       "│ 3       ┆ 210     │\n",
       "│ 7       ┆ 80      │\n",
       "└─────────┴─────────┘"
      ]
     },
     "execution_count": 45,
     "metadata": {},
     "output_type": "execute_result"
    }
   ],
   "source": [
    "df_polar_filtered = (\n",
    "    df_polar.filter(pl.col(\"order_date\").is_between(pl.date(2019,3,1), pl.date(2019,3,31)))\n",
    "    .group_by('cust_id')\n",
    "    .agg(pl.col('total_order_cost').sum().alias('revenue'))\n",
    "    .sort('revenue', descending = True)\n",
    ")\n",
    "df_polar_filtered"
   ]
  },
  {
   "cell_type": "code",
   "execution_count": null,
   "id": "4c0f39d9-e0fa-4635-9a72-e3486e26f86e",
   "metadata": {},
   "outputs": [],
   "source": [
    "# df_polar_filtered = (\n",
    "#     df_polar\n",
    "#     .filter(pl.col('order_date').is_between('2019-03-01', '2019-03-31'))  # Filter rows within the date range\n",
    "#     .groupby('cust_id')  # Group by 'cust_id'\n",
    "#     .agg(\n",
    "#         pl.col('total_order_cost').sum().alias('revenue')  # Sum the 'total_order_cost' as 'revenue'\n",
    "#     )\n",
    "#     .sort('revenue', descending=True)  # Sort by 'revenue' in descending order\n",
    "# )\n",
    "\n",
    "# print(df_polar_filtered)"
   ]
  }
 ],
 "metadata": {
  "kernelspec": {
   "display_name": "Python 3 (ipykernel)",
   "language": "python",
   "name": "python3"
  },
  "language_info": {
   "codemirror_mode": {
    "name": "ipython",
    "version": 3
   },
   "file_extension": ".py",
   "mimetype": "text/x-python",
   "name": "python",
   "nbconvert_exporter": "python",
   "pygments_lexer": "ipython3",
   "version": "3.12.6"
  }
 },
 "nbformat": 4,
 "nbformat_minor": 5
}
