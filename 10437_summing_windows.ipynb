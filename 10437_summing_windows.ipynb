{
 "cells": [
  {
   "cell_type": "code",
   "execution_count": 3,
   "id": "91829b82-1974-4480-aa71-37b53de26a5f",
   "metadata": {},
   "outputs": [],
   "source": [
    "import pandas as pd"
   ]
  },
  {
   "cell_type": "code",
   "execution_count": 50,
   "id": "c1b94a84-91df-4492-a1a2-7422271bffc4",
   "metadata": {},
   "outputs": [],
   "source": [
    "# def find_window_sum(k):\n",
    "#     ls = []\n",
    "#     sub_list = []\n",
    "#     strart_index = 0\n",
    "#     end_index = 0\n",
    "#     for i in range(1, k):\n",
    "#         start_index = i\n",
    "#         print('start_index:',start_index)\n",
    "#         end_index = 0\n",
    "#         for j in range(start_index+1, k):\n",
    "#             end_index  = end_index + j\n",
    "#             print('end_index:',end_index)\n",
    "#             if start_index + end_index == k:\n",
    "#                 print('==', start_index + end_index)\n",
    "#                 sub_list.append(start_index)\n",
    "#                 #print('sublist_append:',sub_list)\n",
    "#                 sub_list.append(j)\n",
    "#                 print('sublist_append:',sub_list)\n",
    "#                 #sub_list.clear()\n",
    "#                 break\n",
    "#             elif start_index + end_index < k:\n",
    "#                 print('<k')\n",
    "#                 continue\n",
    "#             elif start_index + end_index > k:\n",
    "#                 print('>k')\n",
    "#                 break\n",
    "#         ls.append(sub_list)\n",
    "#         sub_list.clear()\n",
    "#     print(ls)"
   ]
  },
  {
   "cell_type": "code",
   "execution_count": 52,
   "id": "4fb07341-d9b5-4a11-8043-fb06a830e922",
   "metadata": {},
   "outputs": [],
   "source": [
    "# k = 28\n",
    "# #ls = list(range(1, n+1))\n",
    "# find_window_sum(k)"
   ]
  },
  {
   "cell_type": "code",
   "execution_count": 13,
   "id": "b044539d-53d8-42b2-9476-4bb1a474863c",
   "metadata": {},
   "outputs": [
    {
     "data": {
      "text/plain": [
       "[1, 2, 3, 4, 5, 6, 7, 8, 9]"
      ]
     },
     "execution_count": 13,
     "metadata": {},
     "output_type": "execute_result"
    }
   ],
   "source": [
    "ls"
   ]
  },
  {
   "cell_type": "code",
   "execution_count": 14,
   "id": "e395c7cb-8dff-4219-a4e8-a6b570eb4a52",
   "metadata": {},
   "outputs": [],
   "source": [
    "lst = [1,2]\n",
    "ls.append(lst)"
   ]
  },
  {
   "cell_type": "code",
   "execution_count": 15,
   "id": "461cebdc-01ab-4e8f-b77a-4b5c4453a29c",
   "metadata": {},
   "outputs": [
    {
     "data": {
      "text/plain": [
       "[1, 2, 3, 4, 5, 6, 7, 8, 9, [1, 2]]"
      ]
     },
     "execution_count": 15,
     "metadata": {},
     "output_type": "execute_result"
    }
   ],
   "source": [
    "ls"
   ]
  },
  {
   "cell_type": "code",
   "execution_count": 38,
   "id": "d4e46189-76f7-40e3-9465-435d8b091696",
   "metadata": {},
   "outputs": [],
   "source": [
    "lst2  = [3,4]\n",
    "ls.append(lst2)"
   ]
  },
  {
   "cell_type": "code",
   "execution_count": 39,
   "id": "353b2ef9-21f2-46f5-8e09-c1edd62415a1",
   "metadata": {},
   "outputs": [
    {
     "data": {
      "text/plain": [
       "[1, 2, 3, 4, 5, 6, 7, 8, 9, [1, 2], [1, 2], [3, 4]]"
      ]
     },
     "execution_count": 39,
     "metadata": {},
     "output_type": "execute_result"
    }
   ],
   "source": [
    "ls"
   ]
  },
  {
   "cell_type": "code",
   "execution_count": 60,
   "id": "49bd091c-bcf7-4195-a13a-be125cf9095d",
   "metadata": {},
   "outputs": [],
   "source": [
    "def find_moving_window(k):\n",
    "    nums = list(range(1, k+1))\n",
    "    result = []\n",
    "\n",
    "    for start in range(len(nums)-1):\n",
    "        current_sum = 0\n",
    "        for end in range(start, len(nums)):\n",
    "            current_sum = current_sum + nums[end]\n",
    "\n",
    "            if current_sum == k:\n",
    "                result.append([start+1, end+1])\n",
    "                break\n",
    "            elif current_sum > k:\n",
    "                break\n",
    "    return result"
   ]
  },
  {
   "cell_type": "code",
   "execution_count": 63,
   "id": "16a895f5-5901-4ac3-97d2-eb30cc92ef44",
   "metadata": {},
   "outputs": [
    {
     "data": {
      "text/plain": [
       "[[1, 7]]"
      ]
     },
     "execution_count": 63,
     "metadata": {},
     "output_type": "execute_result"
    }
   ],
   "source": [
    "find_moving_window(28)"
   ]
  },
  {
   "cell_type": "code",
   "execution_count": null,
   "id": "4a8b4d88-cfde-4de8-aa2f-2e15ac77b27c",
   "metadata": {},
   "outputs": [],
   "source": []
  }
 ],
 "metadata": {
  "kernelspec": {
   "display_name": "Python 3 (ipykernel)",
   "language": "python",
   "name": "python3"
  },
  "language_info": {
   "codemirror_mode": {
    "name": "ipython",
    "version": 3
   },
   "file_extension": ".py",
   "mimetype": "text/x-python",
   "name": "python",
   "nbconvert_exporter": "python",
   "pygments_lexer": "ipython3",
   "version": "3.12.6"
  }
 },
 "nbformat": 4,
 "nbformat_minor": 5
}
