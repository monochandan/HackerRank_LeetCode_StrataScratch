{
 "cells": [
  {
   "cell_type": "code",
   "execution_count": 1,
   "id": "36f74826-0ec7-4296-83f0-6217c4ebafc4",
   "metadata": {},
   "outputs": [],
   "source": [
    "## merge teh tools"
   ]
  },
  {
   "cell_type": "markdown",
   "id": "7948156a-9bf3-4df7-bf8b-b161e0a0814c",
   "metadata": {},
   "source": [
    "https://www.hackerrank.com/challenges/merge-the-tools/problem?isFullScreen=true"
   ]
  },
  {
   "cell_type": "code",
   "execution_count": 42,
   "id": "610f9ade-9112-4666-a0c5-50adbc34184f",
   "metadata": {},
   "outputs": [],
   "source": [
    "def merge_the_tools(strng, k):\n",
    "    # if not isinstance(k, int):\n",
    "    #     raise TypeError('k must be integer')\n",
    "    # str\n",
    "    length = len(strng)\n",
    "    chunk_size = len(strng)//k\n",
    "    for i in range(0, len(strng), chunk_size):\n",
    "        strn = \"\"\n",
    "        for j in range(i, i + chunk_size, 1):\n",
    "            if strng[j] not in strn:\n",
    "                strn = strn + strng[j]\n",
    "        print(strn)\n",
    "        #strn = \"\"\n",
    "    "
   ]
  },
  {
   "cell_type": "code",
   "execution_count": 45,
   "id": "eaa7ef6b-962f-4744-aa53-6b699675ee5f",
   "metadata": {
    "scrolled": true
   },
   "outputs": [
    {
     "name": "stdout",
     "output_type": "stream",
     "text": [
      "AB\n",
      "CA\n",
      "AD\n"
     ]
    }
   ],
   "source": [
    "string = 'AABCAAADA'\n",
    "k = 3\n",
    "#merge_the_tools(strng, k)"
   ]
  },
  {
   "cell_type": "code",
   "execution_count": 50,
   "id": "4fea73a1-5e8b-4cd3-bfb3-afcd48a3decf",
   "metadata": {},
   "outputs": [
    {
     "name": "stdout",
     "output_type": "stream",
     "text": [
      "AB\n",
      "AC\n",
      "AD\n"
     ]
    }
   ],
   "source": [
    "start = 0\n",
    "end = k\n",
    "while end <= len(string):\n",
    "    chunk = list(set(list(string[start:end])))\n",
    "    print(''.join(chunk))\n",
    "    start += k\n",
    "    end += k\n",
    "    "
   ]
  },
  {
   "cell_type": "code",
   "execution_count": null,
   "id": "a920caf5-19ca-4d03-ae80-fdd8b72fcd93",
   "metadata": {},
   "outputs": [],
   "source": []
  }
 ],
 "metadata": {
  "kernelspec": {
   "display_name": "Python 3 (ipykernel)",
   "language": "python",
   "name": "python3"
  },
  "language_info": {
   "codemirror_mode": {
    "name": "ipython",
    "version": 3
   },
   "file_extension": ".py",
   "mimetype": "text/x-python",
   "name": "python",
   "nbconvert_exporter": "python",
   "pygments_lexer": "ipython3",
   "version": "3.12.6"
  }
 },
 "nbformat": 4,
 "nbformat_minor": 5
}
